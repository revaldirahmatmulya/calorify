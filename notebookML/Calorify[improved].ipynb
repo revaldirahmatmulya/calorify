{
  "nbformat": 4,
  "nbformat_minor": 0,
  "metadata": {
    "colab": {
      "provenance": [],
      "machine_shape": "hm",
      "gpuType": "V100"
    },
    "kernelspec": {
      "name": "python3",
      "display_name": "Python 3"
    },
    "language_info": {
      "name": "python"
    },
    "accelerator": "GPU"
  },
  "cells": [
    {
      "cell_type": "markdown",
      "source": [
        "# Load Datasets dari kaggle Food-101"
      ],
      "metadata": {
        "id": "ciCHDqDC3WpD"
      }
    },
    {
      "cell_type": "code",
      "execution_count": 1,
      "metadata": {
        "colab": {
          "base_uri": "https://localhost:8080/"
        },
        "id": "7VYzK1zB3Tna",
        "outputId": "989d223d-92df-4aa6-f40a-1cdc245f7cfd"
      },
      "outputs": [
        {
          "output_type": "stream",
          "name": "stdout",
          "text": [
            "Looking in indexes: https://pypi.org/simple, https://us-python.pkg.dev/colab-wheels/public/simple/\n",
            "Requirement already satisfied: kaggle in /usr/local/lib/python3.10/dist-packages (1.5.13)\n",
            "Requirement already satisfied: six>=1.10 in /usr/local/lib/python3.10/dist-packages (from kaggle) (1.16.0)\n",
            "Requirement already satisfied: certifi in /usr/local/lib/python3.10/dist-packages (from kaggle) (2022.12.7)\n",
            "Requirement already satisfied: python-dateutil in /usr/local/lib/python3.10/dist-packages (from kaggle) (2.8.2)\n",
            "Requirement already satisfied: requests in /usr/local/lib/python3.10/dist-packages (from kaggle) (2.27.1)\n",
            "Requirement already satisfied: tqdm in /usr/local/lib/python3.10/dist-packages (from kaggle) (4.65.0)\n",
            "Requirement already satisfied: python-slugify in /usr/local/lib/python3.10/dist-packages (from kaggle) (8.0.1)\n",
            "Requirement already satisfied: urllib3 in /usr/local/lib/python3.10/dist-packages (from kaggle) (1.26.15)\n",
            "Requirement already satisfied: text-unidecode>=1.3 in /usr/local/lib/python3.10/dist-packages (from python-slugify->kaggle) (1.3)\n",
            "Requirement already satisfied: charset-normalizer~=2.0.0 in /usr/local/lib/python3.10/dist-packages (from requests->kaggle) (2.0.12)\n",
            "Requirement already satisfied: idna<4,>=2.5 in /usr/local/lib/python3.10/dist-packages (from requests->kaggle) (3.4)\n"
          ]
        }
      ],
      "source": [
        "#instal library kaggle\n",
        "!pip install kaggle"
      ]
    },
    {
      "cell_type": "code",
      "source": [
        "from google.colab import files\n",
        "files.upload()"
      ],
      "metadata": {
        "colab": {
          "base_uri": "https://localhost:8080/",
          "height": 90
        },
        "id": "xYpjnHrr3g2k",
        "outputId": "1feba397-7b92-4aab-a0fa-2bc6f848d77c"
      },
      "execution_count": 2,
      "outputs": [
        {
          "output_type": "display_data",
          "data": {
            "text/plain": [
              "<IPython.core.display.HTML object>"
            ],
            "text/html": [
              "\n",
              "     <input type=\"file\" id=\"files-d12c5b28-c673-4a2b-acec-a23887d2e737\" name=\"files[]\" multiple disabled\n",
              "        style=\"border:none\" />\n",
              "     <output id=\"result-d12c5b28-c673-4a2b-acec-a23887d2e737\">\n",
              "      Upload widget is only available when the cell has been executed in the\n",
              "      current browser session. Please rerun this cell to enable.\n",
              "      </output>\n",
              "      <script>// Copyright 2017 Google LLC\n",
              "//\n",
              "// Licensed under the Apache License, Version 2.0 (the \"License\");\n",
              "// you may not use this file except in compliance with the License.\n",
              "// You may obtain a copy of the License at\n",
              "//\n",
              "//      http://www.apache.org/licenses/LICENSE-2.0\n",
              "//\n",
              "// Unless required by applicable law or agreed to in writing, software\n",
              "// distributed under the License is distributed on an \"AS IS\" BASIS,\n",
              "// WITHOUT WARRANTIES OR CONDITIONS OF ANY KIND, either express or implied.\n",
              "// See the License for the specific language governing permissions and\n",
              "// limitations under the License.\n",
              "\n",
              "/**\n",
              " * @fileoverview Helpers for google.colab Python module.\n",
              " */\n",
              "(function(scope) {\n",
              "function span(text, styleAttributes = {}) {\n",
              "  const element = document.createElement('span');\n",
              "  element.textContent = text;\n",
              "  for (const key of Object.keys(styleAttributes)) {\n",
              "    element.style[key] = styleAttributes[key];\n",
              "  }\n",
              "  return element;\n",
              "}\n",
              "\n",
              "// Max number of bytes which will be uploaded at a time.\n",
              "const MAX_PAYLOAD_SIZE = 100 * 1024;\n",
              "\n",
              "function _uploadFiles(inputId, outputId) {\n",
              "  const steps = uploadFilesStep(inputId, outputId);\n",
              "  const outputElement = document.getElementById(outputId);\n",
              "  // Cache steps on the outputElement to make it available for the next call\n",
              "  // to uploadFilesContinue from Python.\n",
              "  outputElement.steps = steps;\n",
              "\n",
              "  return _uploadFilesContinue(outputId);\n",
              "}\n",
              "\n",
              "// This is roughly an async generator (not supported in the browser yet),\n",
              "// where there are multiple asynchronous steps and the Python side is going\n",
              "// to poll for completion of each step.\n",
              "// This uses a Promise to block the python side on completion of each step,\n",
              "// then passes the result of the previous step as the input to the next step.\n",
              "function _uploadFilesContinue(outputId) {\n",
              "  const outputElement = document.getElementById(outputId);\n",
              "  const steps = outputElement.steps;\n",
              "\n",
              "  const next = steps.next(outputElement.lastPromiseValue);\n",
              "  return Promise.resolve(next.value.promise).then((value) => {\n",
              "    // Cache the last promise value to make it available to the next\n",
              "    // step of the generator.\n",
              "    outputElement.lastPromiseValue = value;\n",
              "    return next.value.response;\n",
              "  });\n",
              "}\n",
              "\n",
              "/**\n",
              " * Generator function which is called between each async step of the upload\n",
              " * process.\n",
              " * @param {string} inputId Element ID of the input file picker element.\n",
              " * @param {string} outputId Element ID of the output display.\n",
              " * @return {!Iterable<!Object>} Iterable of next steps.\n",
              " */\n",
              "function* uploadFilesStep(inputId, outputId) {\n",
              "  const inputElement = document.getElementById(inputId);\n",
              "  inputElement.disabled = false;\n",
              "\n",
              "  const outputElement = document.getElementById(outputId);\n",
              "  outputElement.innerHTML = '';\n",
              "\n",
              "  const pickedPromise = new Promise((resolve) => {\n",
              "    inputElement.addEventListener('change', (e) => {\n",
              "      resolve(e.target.files);\n",
              "    });\n",
              "  });\n",
              "\n",
              "  const cancel = document.createElement('button');\n",
              "  inputElement.parentElement.appendChild(cancel);\n",
              "  cancel.textContent = 'Cancel upload';\n",
              "  const cancelPromise = new Promise((resolve) => {\n",
              "    cancel.onclick = () => {\n",
              "      resolve(null);\n",
              "    };\n",
              "  });\n",
              "\n",
              "  // Wait for the user to pick the files.\n",
              "  const files = yield {\n",
              "    promise: Promise.race([pickedPromise, cancelPromise]),\n",
              "    response: {\n",
              "      action: 'starting',\n",
              "    }\n",
              "  };\n",
              "\n",
              "  cancel.remove();\n",
              "\n",
              "  // Disable the input element since further picks are not allowed.\n",
              "  inputElement.disabled = true;\n",
              "\n",
              "  if (!files) {\n",
              "    return {\n",
              "      response: {\n",
              "        action: 'complete',\n",
              "      }\n",
              "    };\n",
              "  }\n",
              "\n",
              "  for (const file of files) {\n",
              "    const li = document.createElement('li');\n",
              "    li.append(span(file.name, {fontWeight: 'bold'}));\n",
              "    li.append(span(\n",
              "        `(${file.type || 'n/a'}) - ${file.size} bytes, ` +\n",
              "        `last modified: ${\n",
              "            file.lastModifiedDate ? file.lastModifiedDate.toLocaleDateString() :\n",
              "                                    'n/a'} - `));\n",
              "    const percent = span('0% done');\n",
              "    li.appendChild(percent);\n",
              "\n",
              "    outputElement.appendChild(li);\n",
              "\n",
              "    const fileDataPromise = new Promise((resolve) => {\n",
              "      const reader = new FileReader();\n",
              "      reader.onload = (e) => {\n",
              "        resolve(e.target.result);\n",
              "      };\n",
              "      reader.readAsArrayBuffer(file);\n",
              "    });\n",
              "    // Wait for the data to be ready.\n",
              "    let fileData = yield {\n",
              "      promise: fileDataPromise,\n",
              "      response: {\n",
              "        action: 'continue',\n",
              "      }\n",
              "    };\n",
              "\n",
              "    // Use a chunked sending to avoid message size limits. See b/62115660.\n",
              "    let position = 0;\n",
              "    do {\n",
              "      const length = Math.min(fileData.byteLength - position, MAX_PAYLOAD_SIZE);\n",
              "      const chunk = new Uint8Array(fileData, position, length);\n",
              "      position += length;\n",
              "\n",
              "      const base64 = btoa(String.fromCharCode.apply(null, chunk));\n",
              "      yield {\n",
              "        response: {\n",
              "          action: 'append',\n",
              "          file: file.name,\n",
              "          data: base64,\n",
              "        },\n",
              "      };\n",
              "\n",
              "      let percentDone = fileData.byteLength === 0 ?\n",
              "          100 :\n",
              "          Math.round((position / fileData.byteLength) * 100);\n",
              "      percent.textContent = `${percentDone}% done`;\n",
              "\n",
              "    } while (position < fileData.byteLength);\n",
              "  }\n",
              "\n",
              "  // All done.\n",
              "  yield {\n",
              "    response: {\n",
              "      action: 'complete',\n",
              "    }\n",
              "  };\n",
              "}\n",
              "\n",
              "scope.google = scope.google || {};\n",
              "scope.google.colab = scope.google.colab || {};\n",
              "scope.google.colab._files = {\n",
              "  _uploadFiles,\n",
              "  _uploadFilesContinue,\n",
              "};\n",
              "})(self);\n",
              "</script> "
            ]
          },
          "metadata": {}
        },
        {
          "output_type": "stream",
          "name": "stdout",
          "text": [
            "Saving kaggle.json to kaggle.json\n"
          ]
        },
        {
          "output_type": "execute_result",
          "data": {
            "text/plain": [
              "{'kaggle.json': b'{\"username\":\"mfathurrohmanharis\",\"key\":\"f14e4f2dcd158d570de165a8be9f6b07\"}'}"
            ]
          },
          "metadata": {},
          "execution_count": 2
        }
      ]
    },
    {
      "cell_type": "code",
      "source": [
        "#buat kaggle folder\n",
        "!mkdir ~/.kaggle"
      ],
      "metadata": {
        "id": "yLZFz__v3ssv"
      },
      "execution_count": 3,
      "outputs": []
    },
    {
      "cell_type": "code",
      "source": [
        "#copy kaggle.json ke folder yang sudah dibuat\n",
        "!cp kaggle.json ~/.kaggle/"
      ],
      "metadata": {
        "id": "m50fndlV3yAH"
      },
      "execution_count": 4,
      "outputs": []
    },
    {
      "cell_type": "code",
      "source": [
        "#beri akses untuk json (read and write)\n",
        "!chmod 600 ~/.kaggle/kaggle.json"
      ],
      "metadata": {
        "id": "2Lh41Kjx34pn"
      },
      "execution_count": 5,
      "outputs": []
    },
    {
      "cell_type": "code",
      "source": [
        "# !kaggle datasets download 'kmader/food41'"
      ],
      "metadata": {
        "id": "GJKClRU_4Uy7"
      },
      "execution_count": null,
      "outputs": []
    },
    {
      "cell_type": "code",
      "source": [
        "# folder_path = \"./food-image\"  # Ganti dengan path folder yang sesuai\n",
        "# directories = os.listdir(folder_path)\n",
        "\n",
        "# for directory in directories:\n",
        "#     if os.path.isdir(os.path.join(folder_path, directory)):\n",
        "#         print(directory)\n",
        "\n",
        "#----------------------------------------------------------------------\n",
        "# os.chdir('../')\n",
        "# dir = os.getcwd()\n",
        "# print('posisi : ', dir)"
      ],
      "metadata": {
        "id": "CUDy3fwTr_Vz"
      },
      "execution_count": null,
      "outputs": []
    },
    {
      "cell_type": "code",
      "source": [
        "import os\n",
        "import zipfile\n",
        "import random\n",
        "import shutil\n",
        "import tensorflow as tf\n",
        "from tensorflow.keras.preprocessing.image import ImageDataGenerator\n",
        "from shutil import copyfile\n",
        "import matplotlib.pyplot as plt\n",
        "from kaggle.api.kaggle_api_extended import KaggleApi"
      ],
      "metadata": {
        "id": "RJWwHyslEAG6"
      },
      "execution_count": 6,
      "outputs": []
    },
    {
      "cell_type": "code",
      "source": [
        "# Dataset 101\n",
        "api = KaggleApi()\n",
        "\n",
        "api.authenticate()\n",
        "\n",
        "dataset_id = 'kmader/food41'\n",
        "\n",
        "chooseClass = ['fried_rice', 'omelette', 'tiramisu', 'spring_rolls', 'donuts', 'chicken_wings',\n",
        "               'chocolate_cake', 'churros', 'ice_cream', 'waffles', 'takoyaki', 'onion_rings',\n",
        "               'mussels', 'macarons', 'cup_cakes', 'hamburger', 'edamame']\n",
        "\n",
        "os.makedirs('./tmp', exist_ok=True)\n",
        "\n",
        "os.chdir('./tmp')\n",
        "\n",
        "api.dataset_download_files(dataset_id, unzip=True)\n",
        "\n",
        "os.chdir('../')"
      ],
      "metadata": {
        "id": "RwA-50VtxiH-"
      },
      "execution_count": 7,
      "outputs": []
    },
    {
      "cell_type": "code",
      "source": [
        "dataset_dir = os.path.join('./tmp/', 'images')\n",
        "\n",
        "os.makedirs('./food-images', exist_ok=True)\n",
        "\n",
        "for kelas in chooseClass:\n",
        "  kelas_dir = os.path.join(dataset_dir, kelas)\n",
        "  tujuan_dir = os.path.join('./food-images', kelas)\n",
        "\n",
        "  os.makedirs(tujuan_dir, exist_ok=True)\n",
        "\n",
        "  gambar = os.listdir(kelas_dir)\n",
        "\n",
        "  # pilihGambar = gambar[:500]\n",
        "\n",
        "  for gambar_file in gambar:\n",
        "    source = os.path.join(kelas_dir, gambar_file)\n",
        "    direction = os.path.join(tujuan_dir, gambar_file)\n",
        "    shutil.copyfile(source, direction)\n",
        "print(\"complete!!\")"
      ],
      "metadata": {
        "colab": {
          "base_uri": "https://localhost:8080/"
        },
        "id": "bgSx2wuPOWR7",
        "outputId": "0300de4f-7412-4948-8b4d-3b63a04ff640"
      },
      "execution_count": 8,
      "outputs": [
        {
          "output_type": "stream",
          "name": "stdout",
          "text": [
            "complete!!\n"
          ]
        }
      ]
    },
    {
      "cell_type": "markdown",
      "source": [
        "Ekstrak `zip` hasil download dari `kaggle`"
      ],
      "metadata": {
        "id": "aJ98uAPvE1oK"
      }
    },
    {
      "cell_type": "code",
      "source": [
        "# zip_ref = zipfile.ZipFile(\"./food41.zip\", 'r')\n",
        "# zip_ref.extractall(\"tmp/\")\n",
        "# zip_ref.close()"
      ],
      "metadata": {
        "id": "TvYn66vZEy9U"
      },
      "execution_count": null,
      "outputs": []
    },
    {
      "cell_type": "code",
      "source": [
        "#melihat jumlah gambar di setiap kategori\n",
        "source_path = './food-images'\n",
        "categories = os.listdir(source_path)\n",
        "\n",
        "for category in categories:\n",
        "  category_dir = os.path.join(source_path, category)\n",
        "  images = os.listdir(category_dir)\n",
        "  jml_images = len(images)\n",
        "  print(f\"Terdapat {jml_images} img di kategori {category}\")"
      ],
      "metadata": {
        "colab": {
          "base_uri": "https://localhost:8080/"
        },
        "id": "bheOLe-vFpwW",
        "outputId": "8c95c334-b7cd-4334-920a-09b40b5a4091"
      },
      "execution_count": 9,
      "outputs": [
        {
          "output_type": "stream",
          "name": "stdout",
          "text": [
            "Terdapat 1000 img di kategori omelette\n",
            "Terdapat 1000 img di kategori macarons\n",
            "Terdapat 1000 img di kategori churros\n",
            "Terdapat 1000 img di kategori hamburger\n",
            "Terdapat 1000 img di kategori tiramisu\n",
            "Terdapat 1000 img di kategori chicken_wings\n",
            "Terdapat 1000 img di kategori cup_cakes\n",
            "Terdapat 1000 img di kategori mussels\n",
            "Terdapat 1000 img di kategori spring_rolls\n",
            "Terdapat 1000 img di kategori takoyaki\n",
            "Terdapat 1000 img di kategori chocolate_cake\n",
            "Terdapat 1000 img di kategori ice_cream\n",
            "Terdapat 1000 img di kategori donuts\n",
            "Terdapat 1000 img di kategori fried_rice\n",
            "Terdapat 1000 img di kategori edamame\n",
            "Terdapat 1000 img di kategori waffles\n",
            "Terdapat 1000 img di kategori onion_rings\n"
          ]
        }
      ]
    },
    {
      "cell_type": "code",
      "source": [
        "#membuat fungsi untuk directory training dan validasi\n",
        "if not os.path.exists(\"./food-recognize\"):\n",
        "  os.makedirs(\"./food-recognize\")\n",
        "\n",
        "def split_dataset(SOURCE_DIR, OUTPUT_DIR, SPLIT_SIZE):\n",
        "  train_dir = os.path.join(OUTPUT_DIR, \"training\")\n",
        "  valid_dir = os.path.join(OUTPUT_DIR, \"validation\")\n",
        "\n",
        "  os.makedirs(train_dir, exist_ok=True)\n",
        "  os.makedirs(valid_dir, exist_ok=True)\n",
        "\n",
        "  categories = os.listdir(SOURCE_DIR)\n",
        "\n",
        "  for category in categories:\n",
        "    category_dir = os.path.join(SOURCE_DIR, category)\n",
        "\n",
        "    images = os.listdir(category_dir)\n",
        "\n",
        "    random.shuffle(images)\n",
        "\n",
        "    jml_images = len(images)\n",
        "    jml_train = int(jml_images * SPLIT_SIZE)\n",
        "\n",
        "    train_images = images[:jml_train]\n",
        "    valid_images = images[jml_train:]\n",
        "\n",
        "    for image in train_images:\n",
        "      this_file = os.path.join(category_dir, image)\n",
        "      destination = os.path.join(train_dir, category, image)\n",
        "      os.makedirs(os.path.dirname(destination), exist_ok=True)\n",
        "      copyfile(this_file, destination)\n",
        "    \n",
        "    for image in valid_images:\n",
        "      this_file = os.path.join(category_dir, image)\n",
        "      destination = os.path.join(valid_dir, category, image)\n",
        "      os.makedirs(os.path.dirname(destination), exist_ok=True)\n",
        "      copyfile(this_file, destination)\n",
        "    \n",
        "    print(f\"Kategori: {category}\")\n",
        "    print(f\"original jumlah gambar {jml_images} \\n\")\n",
        "    \n",
        "    print(f\"Jumlah Gambar Train: {len(train_images)}\")\n",
        "    print(f\"Jumlah Gambar Validasi: {len(valid_images)} \\n\")"
      ],
      "metadata": {
        "id": "wSACD9LeIWnu"
      },
      "execution_count": 10,
      "outputs": []
    },
    {
      "cell_type": "code",
      "source": [
        "SOURCE_DIR = \"./food-images\"\n",
        "OUTPUT_DIR = \"./food-recognize\"\n",
        "SPLIT_SIZE = 0.8\n",
        "\n",
        "split_dataset(SOURCE_DIR, OUTPUT_DIR, SPLIT_SIZE)"
      ],
      "metadata": {
        "colab": {
          "base_uri": "https://localhost:8080/"
        },
        "id": "jOjhAFc0RxH_",
        "outputId": "89a0c129-e81f-44c5-9cc0-9672e70ce0d7"
      },
      "execution_count": 11,
      "outputs": [
        {
          "output_type": "stream",
          "name": "stdout",
          "text": [
            "Kategori: omelette\n",
            "original jumlah gambar 1000 \n",
            "\n",
            "Jumlah Gambar Train: 800\n",
            "Jumlah Gambar Validasi: 200 \n",
            "\n",
            "Kategori: macarons\n",
            "original jumlah gambar 1000 \n",
            "\n",
            "Jumlah Gambar Train: 800\n",
            "Jumlah Gambar Validasi: 200 \n",
            "\n",
            "Kategori: churros\n",
            "original jumlah gambar 1000 \n",
            "\n",
            "Jumlah Gambar Train: 800\n",
            "Jumlah Gambar Validasi: 200 \n",
            "\n",
            "Kategori: hamburger\n",
            "original jumlah gambar 1000 \n",
            "\n",
            "Jumlah Gambar Train: 800\n",
            "Jumlah Gambar Validasi: 200 \n",
            "\n",
            "Kategori: tiramisu\n",
            "original jumlah gambar 1000 \n",
            "\n",
            "Jumlah Gambar Train: 800\n",
            "Jumlah Gambar Validasi: 200 \n",
            "\n",
            "Kategori: chicken_wings\n",
            "original jumlah gambar 1000 \n",
            "\n",
            "Jumlah Gambar Train: 800\n",
            "Jumlah Gambar Validasi: 200 \n",
            "\n",
            "Kategori: cup_cakes\n",
            "original jumlah gambar 1000 \n",
            "\n",
            "Jumlah Gambar Train: 800\n",
            "Jumlah Gambar Validasi: 200 \n",
            "\n",
            "Kategori: mussels\n",
            "original jumlah gambar 1000 \n",
            "\n",
            "Jumlah Gambar Train: 800\n",
            "Jumlah Gambar Validasi: 200 \n",
            "\n",
            "Kategori: spring_rolls\n",
            "original jumlah gambar 1000 \n",
            "\n",
            "Jumlah Gambar Train: 800\n",
            "Jumlah Gambar Validasi: 200 \n",
            "\n",
            "Kategori: takoyaki\n",
            "original jumlah gambar 1000 \n",
            "\n",
            "Jumlah Gambar Train: 800\n",
            "Jumlah Gambar Validasi: 200 \n",
            "\n",
            "Kategori: chocolate_cake\n",
            "original jumlah gambar 1000 \n",
            "\n",
            "Jumlah Gambar Train: 800\n",
            "Jumlah Gambar Validasi: 200 \n",
            "\n",
            "Kategori: ice_cream\n",
            "original jumlah gambar 1000 \n",
            "\n",
            "Jumlah Gambar Train: 800\n",
            "Jumlah Gambar Validasi: 200 \n",
            "\n",
            "Kategori: donuts\n",
            "original jumlah gambar 1000 \n",
            "\n",
            "Jumlah Gambar Train: 800\n",
            "Jumlah Gambar Validasi: 200 \n",
            "\n",
            "Kategori: fried_rice\n",
            "original jumlah gambar 1000 \n",
            "\n",
            "Jumlah Gambar Train: 800\n",
            "Jumlah Gambar Validasi: 200 \n",
            "\n",
            "Kategori: edamame\n",
            "original jumlah gambar 1000 \n",
            "\n",
            "Jumlah Gambar Train: 800\n",
            "Jumlah Gambar Validasi: 200 \n",
            "\n",
            "Kategori: waffles\n",
            "original jumlah gambar 1000 \n",
            "\n",
            "Jumlah Gambar Train: 800\n",
            "Jumlah Gambar Validasi: 200 \n",
            "\n",
            "Kategori: onion_rings\n",
            "original jumlah gambar 1000 \n",
            "\n",
            "Jumlah Gambar Train: 800\n",
            "Jumlah Gambar Validasi: 200 \n",
            "\n"
          ]
        }
      ]
    },
    {
      "cell_type": "code",
      "source": [
        "# Dataset 2 (train dan val sudah dipisah)\n",
        "dataset_dua = 'rizkashintaw/indonesian-food'\n",
        "\n",
        "pilihKelas = ['sate', 'ayam bakar', 'bakso', 'rendang']\n",
        "\n",
        "os.makedirs('./dataset2')\n",
        "\n",
        "os.chdir('./dataset2')\n",
        "\n",
        "\n",
        "\n",
        "api.dataset_download_files(dataset_dua, unzip=True)\n",
        "\n",
        "os.chdir('../')"
      ],
      "metadata": {
        "id": "XuJ-wvb7r0Fi"
      },
      "execution_count": null,
      "outputs": []
    },
    {
      "cell_type": "code",
      "source": [
        "#pindah isi dataset 2\n",
        "\n",
        "source_dir = './dataset2/indonesian_food/indonesian_food'\n",
        "target_dir = './food-recognize'\n",
        "\n",
        "source_train_dir = os.path.join(source_dir, 'train')\n",
        "target_train_dir = os.path.join(target_dir, 'training')\n",
        "\n",
        "for filename in os.listdir(source_train_dir):\n",
        "  source_file = os.path.join(source_train_dir, filename)\n",
        "  target_file = os.path.join(target_train_dir, filename)\n",
        "  shutil.move(source_file, target_file)\n",
        "\n",
        "source_val_dir = os.path.join(source_dir, 'validation')\n",
        "target_val_dir = os.path.join(target_dir, 'validation')\n",
        "\n",
        "for filename in os.listdir(source_val_dir):\n",
        "  source_file = os.path.join(source_val_dir, filename)\n",
        "  target_file = os.path.join(target_val_dir, filename)\n",
        "  shutil.move(source_file, target_file)\n",
        "\n",
        "print('done!')"
      ],
      "metadata": {
        "colab": {
          "base_uri": "https://localhost:8080/"
        },
        "id": "aq3cNGJR2eyo",
        "outputId": "3614f6e6-6d4d-4b69-a8cf-e9cfcfcbc649"
      },
      "execution_count": null,
      "outputs": [
        {
          "output_type": "stream",
          "name": "stdout",
          "text": [
            "done!\n"
          ]
        }
      ]
    },
    {
      "cell_type": "code",
      "source": [
        "#Dataset 3\n",
        "dataset_tiga = 'rkuo2000/uecfood256'\n",
        "\n",
        "os.makedirs('./dataset3/')\n",
        "\n",
        "os.chdir('./dataset3/')\n",
        "\n",
        "api.dataset_download_files(dataset_tiga, unzip=True)\n",
        "\n",
        "os.chdir('../')"
      ],
      "metadata": {
        "id": "fA7Z-YIdsaLS"
      },
      "execution_count": null,
      "outputs": []
    },
    {
      "cell_type": "code",
      "source": [
        "#lanjutan dataset3\n",
        "dataset_path = './dataset3/UECFOOD256/'\n",
        "\n",
        "train_path = './food-recognize/training'\n",
        "\n",
        "validation_path = './food-recognize/validation'\n",
        "\n",
        "pilih_kelas = {\n",
        "    \"1\": \"rice\"\n",
        "    # \"180\": \"tofu\",\n",
        "    # \"202\": \"nasi_kuning\",\n",
        "    # \"233\": \"mie_ayam\",\n",
        "    # \"228\": \"ayam_goreng\",\n",
        "    # \"230\": \"bubur\"\n",
        "}\n",
        "\n",
        "# kelas_terpilih = ['1', '180', '202', '233', '228', '230']\n",
        "kelas_terpilih = ['1']\n",
        "\n",
        "os.makedirs(train_path, exist_ok=True)\n",
        "os.makedirs(validation_path, exist_ok=True)\n",
        "\n",
        "for className in os.listdir(dataset_path):\n",
        "  if className in kelas_terpilih:\n",
        "    class_path = os.path.join(dataset_path, className)\n",
        "    train_class_path = os.path.join(train_path, pilih_kelas[className])\n",
        "    val_class_path = os.path.join(validation_path, pilih_kelas[className])\n",
        "\n",
        "    os.makedirs(train_class_path, exist_ok=True)\n",
        "    os.makedirs(val_class_path, exist_ok=True)\n",
        "\n",
        "    image_file = os.listdir(class_path)\n",
        "\n",
        "    jml_img = len(image_file)\n",
        "    jml_train = int(jml_img * 0.8)\n",
        "\n",
        "    train_img = image_file[:jml_train]\n",
        "    val_img = image_file[jml_train:]\n",
        "\n",
        "    for i in range(len(train_img)):\n",
        "      source_path = os.path.join(class_path, image_file[i])\n",
        "      direction_path = os.path.join(train_class_path, image_file[i])\n",
        "      shutil.copy(source_path, direction_path)\n",
        "\n",
        "    for i in range(len(val_img)):\n",
        "      source_path = os.path.join(class_path, image_file[i])\n",
        "      direction_path = os.path.join(val_class_path, image_file[i])\n",
        "      shutil.copy(source_path, direction_path)\n",
        "  \n",
        "print(f'jml train : ', {len(train_img)})\n",
        "print(f'jml val : ', {len(val_img)})"
      ],
      "metadata": {
        "colab": {
          "base_uri": "https://localhost:8080/"
        },
        "id": "5OIBN_XfshgL",
        "outputId": "154c035e-b8bc-4e8a-e915-e4a590cef4de"
      },
      "execution_count": null,
      "outputs": [
        {
          "output_type": "stream",
          "name": "stdout",
          "text": [
            "jml train :  {496}\n",
            "jml val :  {125}\n"
          ]
        }
      ]
    },
    {
      "cell_type": "code",
      "source": [
        "import os\n",
        "import shutil\n",
        "\n",
        "def filter_images(dataset_path):\n",
        "    allowed_extensions = ['.jpg', '.jpeg', '.png']  # Format file gambar yang diizinkan\n",
        "    \n",
        "    for root, dirs, files in os.walk(dataset_path):\n",
        "        for file in files:\n",
        "            file_path = os.path.join(root, file)\n",
        "            file_ext = os.path.splitext(file_path)[1].lower()  # Ekstensi file dalam huruf kecil\n",
        "            \n",
        "            if file_ext in allowed_extensions:\n",
        "                continue  # File gambar, biarkan tetap dalam dataset\n",
        "            else:\n",
        "                os.remove(file_path)  # Hapus file non-gambar dari dataset\n",
        "\n",
        "# Contoh penggunaan\n",
        "dataset_path = './food-recognize'\n",
        "train_path = './food-recognize/training'\n",
        "val_path = './food-recognize/validation'\n",
        "\n",
        "filter_images(dataset_path)\n",
        "filter_images(train_path)\n",
        "filter_images(val_path)"
      ],
      "metadata": {
        "id": "qxCg-b3g3lYc"
      },
      "execution_count": 12,
      "outputs": []
    },
    {
      "cell_type": "code",
      "source": [
        "import os\n",
        "\n",
        "def count_images_by_category(folder_path):\n",
        "    image_count = {}\n",
        "    \n",
        "    for category in os.listdir(folder_path):\n",
        "        category_path = os.path.join(folder_path, category)\n",
        "        \n",
        "        if os.path.isdir(category_path):\n",
        "            image_count[category] = len(os.listdir(category_path))\n",
        "    \n",
        "    return image_count\n",
        "\n",
        "training_folder = \"./food-recognize/training/\"\n",
        "validation_folder = \"./food-recognize/validation/\"\n",
        "\n",
        "training_image_count = count_images_by_category(training_folder)\n",
        "validation_image_count = count_images_by_category(validation_folder)\n",
        "\n",
        "print(\"Training Image Counts:\")\n",
        "for category, count in training_image_count.items():\n",
        "    print(f\"{category}: {count}\")\n",
        "\n",
        "print(\"\\nValidation Image Counts:\")\n",
        "for category, count in validation_image_count.items():\n",
        "    print(f\"{category}: {count}\")"
      ],
      "metadata": {
        "colab": {
          "base_uri": "https://localhost:8080/"
        },
        "id": "64D7D3Zy7JPA",
        "outputId": "6d5932f5-04d1-4126-d31f-21ebca4d7fff"
      },
      "execution_count": 13,
      "outputs": [
        {
          "output_type": "stream",
          "name": "stdout",
          "text": [
            "Training Image Counts:\n",
            "omelette: 800\n",
            "macarons: 800\n",
            "churros: 800\n",
            "hamburger: 800\n",
            "tiramisu: 800\n",
            "chicken_wings: 800\n",
            "cup_cakes: 800\n",
            "mussels: 800\n",
            "spring_rolls: 800\n",
            "takoyaki: 800\n",
            "chocolate_cake: 800\n",
            "ice_cream: 800\n",
            "donuts: 800\n",
            "fried_rice: 800\n",
            "edamame: 800\n",
            "waffles: 800\n",
            "onion_rings: 800\n",
            "\n",
            "Validation Image Counts:\n",
            "omelette: 200\n",
            "macarons: 200\n",
            "churros: 200\n",
            "hamburger: 200\n",
            "tiramisu: 200\n",
            "chicken_wings: 200\n",
            "cup_cakes: 200\n",
            "mussels: 200\n",
            "spring_rolls: 200\n",
            "takoyaki: 200\n",
            "chocolate_cake: 200\n",
            "ice_cream: 200\n",
            "donuts: 200\n",
            "fried_rice: 200\n",
            "edamame: 200\n",
            "waffles: 200\n",
            "onion_rings: 200\n"
          ]
        }
      ]
    },
    {
      "cell_type": "code",
      "source": [
        "#image size\n",
        "def train_val_generators(train_dir, valid_dir):\n",
        "  train_datagen = ImageDataGenerator(rescale = 1./255,\n",
        "                                    #  rotation_range = 40,\n",
        "                                    #  width_shift_range = 0.2,\n",
        "                                    #  height_shift_range = 0.2,\n",
        "                                     shear_range = 0.2,\n",
        "                                     zoom_range = 0.2,\n",
        "                                     horizontal_flip = True,\n",
        "                                    #  vertical_flip = False,\n",
        "                                    #  fill_mode = 'nearest'\n",
        "                                     )\n",
        "\n",
        "  train_generator = train_datagen.flow_from_directory(directory=train_dir,\n",
        "                                                      batch_size=16,\n",
        "                                                      class_mode='categorical',\n",
        "                                                      target_size=(224,224))\n",
        "  \n",
        "  valid_datagen = ImageDataGenerator(rescale = 1./255)\n",
        "\n",
        "  valid_generator = valid_datagen.flow_from_directory(directory=valid_dir,\n",
        "                                                      batch_size=16,\n",
        "                                                      class_mode='categorical',\n",
        "                                                      target_size=(224,224))\n",
        "  \n",
        "  return train_generator, valid_generator"
      ],
      "metadata": {
        "id": "xKHyByv3UJn5"
      },
      "execution_count": 16,
      "outputs": []
    },
    {
      "cell_type": "code",
      "source": [
        "#Test generator\n",
        "train_dir = \"./food-recognize/training\"\n",
        "valid_dir = \"./food-recognize/validation\"\n",
        "train_generator, valid_generator = train_val_generators(train_dir, valid_dir)"
      ],
      "metadata": {
        "colab": {
          "base_uri": "https://localhost:8080/"
        },
        "id": "NHDIaqCdVJh9",
        "outputId": "af6df9e9-e31f-4539-9ab0-ee0728f2e916"
      },
      "execution_count": 17,
      "outputs": [
        {
          "output_type": "stream",
          "name": "stdout",
          "text": [
            "Found 13600 images belonging to 17 classes.\n",
            "Found 3400 images belonging to 17 classes.\n"
          ]
        }
      ]
    },
    {
      "cell_type": "code",
      "source": [
        "from tensorflow.keras.models import Sequential\n",
        "from tensorflow.keras.layers import Dense, Conv2D, MaxPooling2D, Flatten, Dropout\n",
        "from tensorflow.keras import regularizers\n",
        "\n",
        "model = Sequential()\n",
        "\n",
        "#++++++++++coba model-1++++++++++\n",
        "# model.add(Conv2D(16, (3,3), activation='relu', input_shape=(300,300,3)))\n",
        "# model.add(MaxPooling2D(2,2))\n",
        "\n",
        "# model.add(Conv2D(32, (3,3), activation='relu'))\n",
        "# model.add(MaxPooling2D(2,2))\n",
        "\n",
        "# model.add(Conv2D(64, (3,3), activation='relu'))\n",
        "# model.add(MaxPooling2D(2,2))\n",
        "\n",
        "# model.add(Conv2D(64, (3,3), activation='relu'))\n",
        "# model.add(MaxPooling2D(2,2))\n",
        "\n",
        "# model.add(Conv2D(64, (3,3), activation='relu'))\n",
        "# model.add(MaxPooling2D(2,2))\n",
        "\n",
        "#++++++++++coba model-2++++++++++\n",
        "# model.add(Conv2D(32, (3,3), activation='relu', input_shape=(300,300,3)))\n",
        "# model.add(MaxPooling2D(2,2))\n",
        "\n",
        "# model.add(Conv2D(64, (3,3), activation='relu'))\n",
        "# model.add(MaxPooling2D(2,2))\n",
        "\n",
        "# model.add(Conv2D(128, (3,3), activation='relu'))\n",
        "# model.add(MaxPooling2D(2,2))\n",
        "\n",
        "# model.add(Conv2D(256, (3,3), activation='relu'))\n",
        "# model.add(MaxPooling2D(2,2))\n",
        "\n",
        "# model.add(Flatten())\n",
        "# model.add(Dense(512, activation='relu'))\n",
        "# # model.add(Dropout(0.2))\n",
        "# model.add(Dense(256, activation='relu'))\n",
        "# # model.add(Dropout(0.5))\n",
        "# model.add(Dense(5, activation='softmax'))\n",
        "#------------------------------------------------\n",
        "\n",
        "model.add(Conv2D(32, (3,3), activation='relu', input_shape=(150,150,3)))\n",
        "model.add(MaxPooling2D(2,2))\n",
        "\n",
        "model.add(Conv2D(64, (3,3), activation='relu'))\n",
        "model.add(MaxPooling2D(2,2))\n",
        "\n",
        "model.add(Conv2D(128, (3,3), activation='relu'))\n",
        "model.add(MaxPooling2D(2,2))\n",
        "\n",
        "model.add(Flatten())\n",
        "model.add(Dense(128, activation='relu'))\n",
        "model.add(Dropout(0.2))\n",
        "model.add(Dense(11, activation='softmax'))\n",
        "\n",
        "model.summary()"
      ],
      "metadata": {
        "colab": {
          "base_uri": "https://localhost:8080/"
        },
        "id": "s2uVoXI1YCI8",
        "outputId": "a711f851-b72a-4c9b-8df8-c4ccad07a67c"
      },
      "execution_count": null,
      "outputs": [
        {
          "output_type": "stream",
          "name": "stdout",
          "text": [
            "Model: \"sequential_2\"\n",
            "_________________________________________________________________\n",
            " Layer (type)                Output Shape              Param #   \n",
            "=================================================================\n",
            " conv2d_6 (Conv2D)           (None, 148, 148, 32)      896       \n",
            "                                                                 \n",
            " max_pooling2d_6 (MaxPooling  (None, 74, 74, 32)       0         \n",
            " 2D)                                                             \n",
            "                                                                 \n",
            " conv2d_7 (Conv2D)           (None, 72, 72, 64)        18496     \n",
            "                                                                 \n",
            " max_pooling2d_7 (MaxPooling  (None, 36, 36, 64)       0         \n",
            " 2D)                                                             \n",
            "                                                                 \n",
            " conv2d_8 (Conv2D)           (None, 34, 34, 128)       73856     \n",
            "                                                                 \n",
            " max_pooling2d_8 (MaxPooling  (None, 17, 17, 128)      0         \n",
            " 2D)                                                             \n",
            "                                                                 \n",
            " flatten_2 (Flatten)         (None, 36992)             0         \n",
            "                                                                 \n",
            " dense_4 (Dense)             (None, 128)               4735104   \n",
            "                                                                 \n",
            " dropout_2 (Dropout)         (None, 128)               0         \n",
            "                                                                 \n",
            " dense_5 (Dense)             (None, 11)                1419      \n",
            "                                                                 \n",
            "=================================================================\n",
            "Total params: 4,829,771\n",
            "Trainable params: 4,829,771\n",
            "Non-trainable params: 0\n",
            "_________________________________________________________________\n"
          ]
        }
      ]
    },
    {
      "cell_type": "code",
      "source": [
        "#fungsi callback\n",
        "from tensorflow.keras.callbacks import Callback\n",
        "\n",
        "class AccCallback(Callback):\n",
        "  def on_epoch_end(self, epoch, logs=None):\n",
        "    if logs['accuracy'] >= 0.95:\n",
        "      print(\" Akurasi Mencapai 85%, Stop training !!\")\n",
        "      self.model.stop_training = True"
      ],
      "metadata": {
        "id": "9ZYarSQPGqyj"
      },
      "execution_count": 18,
      "outputs": []
    },
    {
      "cell_type": "code",
      "source": [
        "#fungsi membuat model\n",
        "def create_model():\n",
        "  model = tf.keras.models.Sequential([\n",
        "      # Model 1\n",
        "      # tf.keras.layers.Conv2D(16, (3,3), activation='relu', input_shape=(300,300,3)),\n",
        "      # tf.keras.layers.MaxPooling2D(2,2),\n",
        "\n",
        "      # tf.keras.layers.Conv2D(32, (3,3), activation='relu'),\n",
        "      # tf.keras.layers.MaxPooling2D(2,2),\n",
        "\n",
        "      # tf.keras.layers.Conv2D(64, (3,3), activation='relu'),\n",
        "      # tf.keras.layers.MaxPooling2D(2,2),\n",
        "\n",
        "      # tf.keras.layers.Conv2D(64, (3,3), activation='relu'),\n",
        "      # tf.keras.layers.MaxPooling2D(2,2),\n",
        "\n",
        "      # tf.keras.layers.Conv2D(64, (3,3), activation='relu'),\n",
        "      # tf.keras.layers.MaxPooling2D(2,2),\n",
        "\n",
        "      # Model 2\n",
        "      # tf.keras.layers.Conv2D(32, (3,3), activation='relu', input_shape=(300,300,3)),\n",
        "      # tf.keras.layers.MaxPooling2D(2,2),\n",
        "\n",
        "      # tf.keras.layers.Conv2D(64, (3,3), activation='relu'),\n",
        "      # tf.keras.layers.MaxPooling2D(2,2),\n",
        "\n",
        "      # tf.keras.layers.Conv2D(128, (3,3), activation='relu'),\n",
        "      # tf.keras.layers.MaxPooling2D(2,2),\n",
        "\n",
        "      # tf.keras.layers.Conv2D(256, (3,3), activation='relu'),\n",
        "      # tf.keras.layers.MaxPooling2D(2,2),\n",
        "\n",
        "      # tf.keras.layers.Flatten(),\n",
        "      # tf.keras.layers.Dense(512, activation = 'relu'),\n",
        "      # tf.keras.layers.Dense(256, activation = 'relu'),\n",
        "      # tf.keras.layers.Dense(101, activation = 'softmax')\n",
        "\n",
        "      #model3\n",
        "      # tf.keras.layers.Conv2D(32, (3,3), activation='relu', input_shape=(150,150,3)),\n",
        "      # tf.keras.layers.MaxPooling2D(2,2),\n",
        "\n",
        "      # tf.keras.layers.Conv2D(64, (3,3), activation='relu'),\n",
        "      # tf.keras.layers.MaxPooling2D(2,2),\n",
        "\n",
        "      # tf.keras.layers.Conv2D(128, (3,3), activation='relu'),\n",
        "      # tf.keras.layers.MaxPooling2D(2,2),\n",
        "\n",
        "      # tf.keras.layers.Flatten(),\n",
        "      # tf.keras.layers.Dense(128, activation = 'relu'),\n",
        "      # tf.keras.layers.Dropout(0.2),\n",
        "      # tf.keras.layers.Dense(11, activation = 'softmax')\n",
        "\n",
        "      # tf.keras.layers.Conv2D(32, (3,3), activation='relu', input_shape=(150, 150, 3)),\n",
        "      # tf.keras.layers.MaxPooling2D(2, 2),\n",
        "      # tf.keras.layers.Conv2D(64, (3,3), activation='relu'),\n",
        "      # tf.keras.layers.MaxPooling2D(2,2),\n",
        "      # tf.keras.layers.Conv2D(128, (3,3), activation='relu'),\n",
        "      # tf.keras.layers.MaxPooling2D(2,2),\n",
        "      # tf.keras.layers.Conv2D(128, (3,3), activation='relu'),\n",
        "      # tf.keras.layers.MaxPooling2D(2,2),\n",
        "      # tf.keras.layers.Flatten(),\n",
        "      # tf.keras.layers.Dense(512, activation='relu'),\n",
        "      # tf.keras.layers.Dense(11, activation = 'softmax')\n",
        "\n",
        "      # tf.keras.layers.Conv2D(16, (3,3), activation='relu', input_shape=(150, 150, 3)),\n",
        "      # tf.keras.layers.MaxPooling2D(2, 2),\n",
        "      # # The second convolution\n",
        "      # tf.keras.layers.Conv2D(32, (3,3), activation='relu'),\n",
        "      # tf.keras.layers.MaxPooling2D(2,2),\n",
        "      # # The third convolution\n",
        "      # tf.keras.layers.Conv2D(64, (3,3), activation='relu'),\n",
        "      # tf.keras.layers.MaxPooling2D(2,2),\n",
        "      # # The fourth convolution\n",
        "      # tf.keras.layers.Conv2D(64, (3,3), activation='relu'),\n",
        "      # tf.keras.layers.MaxPooling2D(2,2),\n",
        "      # # The fifth convolution\n",
        "      # tf.keras.layers.Conv2D(64, (3,3), activation='relu'),\n",
        "      # tf.keras.layers.MaxPooling2D(2,2),\n",
        "      # # Flatten the results to feed into a DNN\n",
        "      # tf.keras.layers.Flatten(),\n",
        "      # # 512 neuron hidden layer\n",
        "      # tf.keras.layers.Dense(512, activation='relu'),\n",
        "\n",
        "      tf.keras.layers.Conv2D(64, (3,3), activation='relu', input_shape=(150, 150, 3)),\n",
        "      tf.keras.layers.MaxPooling2D(2, 2),\n",
        "      tf.keras.layers.Conv2D(64, (3,3), activation='relu'),\n",
        "      tf.keras.layers.MaxPooling2D(2,2),\n",
        "      tf.keras.layers.Conv2D(128, (3,3), activation='relu'),\n",
        "      tf.keras.layers.MaxPooling2D(2,2),\n",
        "      tf.keras.layers.Conv2D(128, (3,3), activation='relu'),\n",
        "      tf.keras.layers.MaxPooling2D(2,2),\n",
        "      tf.keras.layers.Flatten(),\n",
        "      tf.keras.layers.Dropout(0.5),\n",
        "      tf.keras.layers.Dense(512, activation='relu'),\n",
        "      tf.keras.layers.Dense(11, activation = 'softmax')\n",
        "\n",
        "  ])\n",
        "#optimizer=tf.keras.optimizers.Adam(learning_rate = 0.0001\n",
        "  model.compile(optimizer=tf.keras.optimizers.Adam(learning_rate = 0.0001),\n",
        "                loss=\"categorical_crossentropy\",\n",
        "                metrics=['accuracy'])\n",
        "  \n",
        "  return model"
      ],
      "metadata": {
        "id": "-AlBRaZLVx5u"
      },
      "execution_count": null,
      "outputs": []
    },
    {
      "cell_type": "code",
      "source": [
        "#ambil model yang belum dilatih\n",
        "preTrainModel = create_model()\n",
        "\n",
        "#train model\n",
        "callback = AccCallback()\n",
        "history = preTrainModel.fit(train_generator, epochs=10, validation_data=valid_generator, callbacks=[callback])"
      ],
      "metadata": {
        "colab": {
          "base_uri": "https://localhost:8080/"
        },
        "id": "HtR9o_kPW8ST",
        "outputId": "4592301d-3384-4014-a82f-797d024e2ee9"
      },
      "execution_count": null,
      "outputs": [
        {
          "output_type": "stream",
          "name": "stdout",
          "text": [
            "Epoch 1/10\n",
            "134/134 [==============================] - 38s 268ms/step - loss: 2.3369 - accuracy: 0.1461 - val_loss: 2.2221 - val_accuracy: 0.2126\n",
            "Epoch 2/10\n",
            "134/134 [==============================] - 36s 271ms/step - loss: 2.1340 - accuracy: 0.2326 - val_loss: 2.0111 - val_accuracy: 0.2973\n",
            "Epoch 3/10\n",
            "134/134 [==============================] - 36s 269ms/step - loss: 1.9879 - accuracy: 0.2929 - val_loss: 1.9809 - val_accuracy: 0.3086\n",
            "Epoch 4/10\n",
            "134/134 [==============================] - 36s 268ms/step - loss: 1.8955 - accuracy: 0.3228 - val_loss: 2.1364 - val_accuracy: 0.3142\n",
            "Epoch 5/10\n",
            "134/134 [==============================] - 38s 280ms/step - loss: 1.8551 - accuracy: 0.3397 - val_loss: 1.7968 - val_accuracy: 0.3791\n",
            "Epoch 6/10\n",
            "134/134 [==============================] - 36s 270ms/step - loss: 1.7975 - accuracy: 0.3632 - val_loss: 2.1161 - val_accuracy: 0.2700\n",
            "Epoch 7/10\n",
            "134/134 [==============================] - 37s 274ms/step - loss: 1.7659 - accuracy: 0.3763 - val_loss: 1.8171 - val_accuracy: 0.3876\n",
            "Epoch 8/10\n",
            "134/134 [==============================] - 37s 278ms/step - loss: 1.7190 - accuracy: 0.3935 - val_loss: 1.8040 - val_accuracy: 0.3932\n",
            "Epoch 9/10\n",
            "134/134 [==============================] - 37s 275ms/step - loss: 1.6568 - accuracy: 0.4158 - val_loss: 1.6763 - val_accuracy: 0.4186\n",
            "Epoch 10/10\n",
            "134/134 [==============================] - 37s 274ms/step - loss: 1.6217 - accuracy: 0.4247 - val_loss: 1.7702 - val_accuracy: 0.4026\n"
          ]
        }
      ]
    },
    {
      "cell_type": "code",
      "source": [
        "#chart akurasi dan loss dari training dan validasi\n",
        "acc = history.history['accuracy']\n",
        "val_acc = history.history['val_accuracy']\n",
        "loss = history.history['loss']\n",
        "val_loss = history.history['val_loss']\n",
        "\n",
        "epochs = range(len(acc))\n",
        "\n",
        "plt.plot(epochs, acc, 'r', label = 'Training accuracy')\n",
        "plt.plot(epochs, val_acc, 'b', label = 'Validation accuracy')\n",
        "plt.title('Training and validation accuracy')\n",
        "plt.legend()\n",
        "plt.figure()\n",
        "\n",
        "plt.plot(epochs, loss, 'r', label = 'Training loss')\n",
        "plt.plot(epochs, val_loss, 'b', label = 'Validation loss')\n",
        "plt.title('Training and validation loss')\n",
        "plt.legend()\n",
        "\n",
        "plt.show()"
      ],
      "metadata": {
        "id": "WTBvbsMlqaD5",
        "colab": {
          "base_uri": "https://localhost:8080/",
          "height": 887
        },
        "outputId": "c0aeabf7-86bf-46bd-ef55-3978dc7eb3e2"
      },
      "execution_count": null,
      "outputs": [
        {
          "output_type": "display_data",
          "data": {
            "text/plain": [
              "<Figure size 640x480 with 1 Axes>"
            ],
            "image/png": "[encoded data removed]"
          },
          "metadata": {}
        },
        {
          "output_type": "display_data",
          "data": {
            "text/plain": [
              "<Figure size 640x480 with 1 Axes>"
            ],
            "image/png": "[encoded data removed]"
          },
          "metadata": {}
        }
      ]
    },
    {
      "cell_type": "code",
      "source": [
        "#transfer_learning\n",
        "from tensorflow.keras import regularizers\n",
        "pretrained_model = tf.keras.applications.InceptionV3(weights='imagenet', include_top=False)\n",
        "\n",
        "\n",
        "for layer in pretrained_model.layers:\n",
        "    layer.trainable = False\n",
        "\n",
        "\n",
        "model = tf.keras.Sequential([\n",
        "    pretrained_model,\n",
        "    tf.keras.layers.GlobalAveragePooling2D(),\n",
        "    tf.keras.layers.Dense(128, activation='relu'),\n",
        "    tf.keras.layers.Dropout(0.2),\n",
        "    tf.keras.layers.Dense(17, kernel_regularizer=regularizers.l2(0.005), activation='softmax')\n",
        "])\n",
        "\n",
        "\n",
        "model.compile(optimizer=tf.keras.optimizers.SGD(learning_rate=0.0001, momentum=0.9), loss='categorical_crossentropy', metrics=['accuracy'])\n",
        "\n",
        "callback = AccCallback()\n",
        "history = model.fit(train_generator, epochs=30, batch_size=16, verbose=1 ,validation_data=valid_generator, callbacks=[callback])"
      ],
      "metadata": {
        "colab": {
          "base_uri": "https://localhost:8080/",
          "height": 1000
        },
        "id": "Hro8Cw3bdRYf",
        "outputId": "7ed6dfe5-3ac1-4e8b-81cc-81f9829a32b0"
      },
      "execution_count": 23,
      "outputs": [
        {
          "output_type": "stream",
          "name": "stdout",
          "text": [
            "Epoch 1/30\n",
            "850/850 [==============================] - 215s 247ms/step - loss: 2.4199 - accuracy: 0.3153 - val_loss: 1.7302 - val_accuracy: 0.5835\n",
            "Epoch 2/30\n",
            "850/850 [==============================] - 204s 240ms/step - loss: 1.6954 - accuracy: 0.5493 - val_loss: 1.3452 - val_accuracy: 0.6741\n",
            "Epoch 3/30\n",
            "850/850 [==============================] - 205s 241ms/step - loss: 1.4577 - accuracy: 0.6121 - val_loss: 1.2027 - val_accuracy: 0.7074\n",
            "Epoch 4/30\n",
            "850/850 [==============================] - 204s 240ms/step - loss: 1.3302 - accuracy: 0.6471 - val_loss: 1.1235 - val_accuracy: 0.7147\n",
            "Epoch 5/30\n",
            "850/850 [==============================] - 204s 240ms/step - loss: 1.2435 - accuracy: 0.6695 - val_loss: 1.0738 - val_accuracy: 0.7282\n",
            "Epoch 6/30\n",
            "850/850 [==============================] - 205s 241ms/step - loss: 1.1822 - accuracy: 0.6872 - val_loss: 1.0377 - val_accuracy: 0.7394\n",
            "Epoch 7/30\n",
            "850/850 [==============================] - 214s 251ms/step - loss: 1.1461 - accuracy: 0.6986 - val_loss: 1.0069 - val_accuracy: 0.7447\n",
            "Epoch 8/30\n",
            "850/850 [==============================] - 216s 254ms/step - loss: 1.1138 - accuracy: 0.7088 - val_loss: 0.9875 - val_accuracy: 0.7488\n",
            "Epoch 9/30\n",
            "850/850 [==============================] - 209s 246ms/step - loss: 1.0773 - accuracy: 0.7184 - val_loss: 0.9678 - val_accuracy: 0.7541\n",
            "Epoch 10/30\n",
            "850/850 [==============================] - 208s 245ms/step - loss: 1.0494 - accuracy: 0.7272 - val_loss: 0.9489 - val_accuracy: 0.7588\n",
            "Epoch 11/30\n",
            "850/850 [==============================] - 203s 239ms/step - loss: 1.0349 - accuracy: 0.7321 - val_loss: 0.9363 - val_accuracy: 0.7650\n",
            "Epoch 12/30\n",
            "850/850 [==============================] - 210s 247ms/step - loss: 1.0148 - accuracy: 0.7345 - val_loss: 0.9221 - val_accuracy: 0.7674\n",
            "Epoch 13/30\n",
            "850/850 [==============================] - 212s 250ms/step - loss: 0.9966 - accuracy: 0.7418 - val_loss: 0.9166 - val_accuracy: 0.7712\n",
            "Epoch 14/30\n",
            "850/850 [==============================] - 208s 245ms/step - loss: 0.9769 - accuracy: 0.7446 - val_loss: 0.9024 - val_accuracy: 0.7747\n",
            "Epoch 15/30\n",
            "850/850 [==============================] - 208s 245ms/step - loss: 0.9643 - accuracy: 0.7460 - val_loss: 0.8916 - val_accuracy: 0.7782\n",
            "Epoch 16/30\n",
            "850/850 [==============================] - 205s 241ms/step - loss: 0.9531 - accuracy: 0.7523 - val_loss: 0.8849 - val_accuracy: 0.7753\n",
            "Epoch 17/30\n",
            "850/850 [==============================] - 207s 243ms/step - loss: 0.9525 - accuracy: 0.7502 - val_loss: 0.8763 - val_accuracy: 0.7782\n",
            "Epoch 18/30\n",
            "850/850 [==============================] - 208s 244ms/step - loss: 0.9237 - accuracy: 0.7580 - val_loss: 0.8720 - val_accuracy: 0.7791\n",
            "Epoch 19/30\n",
            "850/850 [==============================] - 206s 243ms/step - loss: 0.9165 - accuracy: 0.7618 - val_loss: 0.8622 - val_accuracy: 0.7809\n",
            "Epoch 20/30\n",
            "850/850 [==============================] - 208s 245ms/step - loss: 0.9062 - accuracy: 0.7619 - val_loss: 0.8581 - val_accuracy: 0.7841\n",
            "Epoch 21/30\n",
            "850/850 [==============================] - 211s 248ms/step - loss: 0.8982 - accuracy: 0.7653 - val_loss: 0.8533 - val_accuracy: 0.7821\n",
            "Epoch 22/30\n",
            "850/850 [==============================] - 206s 243ms/step - loss: 0.8811 - accuracy: 0.7712 - val_loss: 0.8455 - val_accuracy: 0.7859\n",
            "Epoch 23/30\n",
            "850/850 [==============================] - 210s 247ms/step - loss: 0.8854 - accuracy: 0.7699 - val_loss: 0.8391 - val_accuracy: 0.7832\n",
            "Epoch 24/30\n",
            "304/850 [=========>....................] - ETA: 2:03 - loss: 0.8782 - accuracy: 0.7708"
          ]
        },
        {
          "output_type": "error",
          "ename": "KeyboardInterrupt",
          "evalue": "ignored",
          "traceback": [
            "\u001b[0;31m---------------------------------------------------------------------------\u001b[0m",
            "\u001b[0;31mKeyboardInterrupt\u001b[0m                         Traceback (most recent call last)",
            "\u001b[0;32m<ipython-input-23-07c24e699ca9>\u001b[0m in \u001b[0;36m<cell line: 22>\u001b[0;34m()\u001b[0m\n\u001b[1;32m     20\u001b[0m \u001b[0;34m\u001b[0m\u001b[0m\n\u001b[1;32m     21\u001b[0m \u001b[0mcallback\u001b[0m \u001b[0;34m=\u001b[0m \u001b[0mAccCallback\u001b[0m\u001b[0;34m(\u001b[0m\u001b[0;34m)\u001b[0m\u001b[0;34m\u001b[0m\u001b[0;34m\u001b[0m\u001b[0m\n\u001b[0;32m---> 22\u001b[0;31m \u001b[0mhistory\u001b[0m \u001b[0;34m=\u001b[0m \u001b[0mmodel\u001b[0m\u001b[0;34m.\u001b[0m\u001b[0mfit\u001b[0m\u001b[0;34m(\u001b[0m\u001b[0mtrain_generator\u001b[0m\u001b[0;34m,\u001b[0m \u001b[0mepochs\u001b[0m\u001b[0;34m=\u001b[0m\u001b[0;36m30\u001b[0m\u001b[0;34m,\u001b[0m \u001b[0mbatch_size\u001b[0m\u001b[0;34m=\u001b[0m\u001b[0;36m16\u001b[0m\u001b[0;34m,\u001b[0m \u001b[0mverbose\u001b[0m\u001b[0;34m=\u001b[0m\u001b[0;36m1\u001b[0m \u001b[0;34m,\u001b[0m\u001b[0mvalidation_data\u001b[0m\u001b[0;34m=\u001b[0m\u001b[0mvalid_generator\u001b[0m\u001b[0;34m,\u001b[0m \u001b[0mcallbacks\u001b[0m\u001b[0;34m=\u001b[0m\u001b[0;34m[\u001b[0m\u001b[0mcallback\u001b[0m\u001b[0;34m]\u001b[0m\u001b[0;34m)\u001b[0m\u001b[0;34m\u001b[0m\u001b[0;34m\u001b[0m\u001b[0m\n\u001b[0m",
            "\u001b[0;32m/usr/local/lib/python3.10/dist-packages/keras/utils/traceback_utils.py\u001b[0m in \u001b[0;36merror_handler\u001b[0;34m(*args, **kwargs)\u001b[0m\n\u001b[1;32m     63\u001b[0m         \u001b[0mfiltered_tb\u001b[0m \u001b[0;34m=\u001b[0m \u001b[0;32mNone\u001b[0m\u001b[0;34m\u001b[0m\u001b[0;34m\u001b[0m\u001b[0m\n\u001b[1;32m     64\u001b[0m         \u001b[0;32mtry\u001b[0m\u001b[0;34m:\u001b[0m\u001b[0;34m\u001b[0m\u001b[0;34m\u001b[0m\u001b[0m\n\u001b[0;32m---> 65\u001b[0;31m             \u001b[0;32mreturn\u001b[0m \u001b[0mfn\u001b[0m\u001b[0;34m(\u001b[0m\u001b[0;34m*\u001b[0m\u001b[0margs\u001b[0m\u001b[0;34m,\u001b[0m \u001b[0;34m**\u001b[0m\u001b[0mkwargs\u001b[0m\u001b[0;34m)\u001b[0m\u001b[0;34m\u001b[0m\u001b[0;34m\u001b[0m\u001b[0m\n\u001b[0m\u001b[1;32m     66\u001b[0m         \u001b[0;32mexcept\u001b[0m \u001b[0mException\u001b[0m \u001b[0;32mas\u001b[0m \u001b[0me\u001b[0m\u001b[0;34m:\u001b[0m\u001b[0;34m\u001b[0m\u001b[0;34m\u001b[0m\u001b[0m\n\u001b[1;32m     67\u001b[0m             \u001b[0mfiltered_tb\u001b[0m \u001b[0;34m=\u001b[0m \u001b[0m_process_traceback_frames\u001b[0m\u001b[0;34m(\u001b[0m\u001b[0me\u001b[0m\u001b[0;34m.\u001b[0m\u001b[0m__traceback__\u001b[0m\u001b[0;34m)\u001b[0m\u001b[0;34m\u001b[0m\u001b[0;34m\u001b[0m\u001b[0m\n",
            "\u001b[0;32m/usr/local/lib/python3.10/dist-packages/keras/engine/training.py\u001b[0m in \u001b[0;36mfit\u001b[0;34m(self, x, y, batch_size, epochs, verbose, callbacks, validation_split, validation_data, shuffle, class_weight, sample_weight, initial_epoch, steps_per_epoch, validation_steps, validation_batch_size, validation_freq, max_queue_size, workers, use_multiprocessing)\u001b[0m\n\u001b[1;32m   1683\u001b[0m                         ):\n\u001b[1;32m   1684\u001b[0m                             \u001b[0mcallbacks\u001b[0m\u001b[0;34m.\u001b[0m\u001b[0mon_train_batch_begin\u001b[0m\u001b[0;34m(\u001b[0m\u001b[0mstep\u001b[0m\u001b[0;34m)\u001b[0m\u001b[0;34m\u001b[0m\u001b[0;34m\u001b[0m\u001b[0m\n\u001b[0;32m-> 1685\u001b[0;31m                             \u001b[0mtmp_logs\u001b[0m \u001b[0;34m=\u001b[0m \u001b[0mself\u001b[0m\u001b[0;34m.\u001b[0m\u001b[0mtrain_function\u001b[0m\u001b[0;34m(\u001b[0m\u001b[0miterator\u001b[0m\u001b[0;34m)\u001b[0m\u001b[0;34m\u001b[0m\u001b[0;34m\u001b[0m\u001b[0m\n\u001b[0m\u001b[1;32m   1686\u001b[0m                             \u001b[0;32mif\u001b[0m \u001b[0mdata_handler\u001b[0m\u001b[0;34m.\u001b[0m\u001b[0mshould_sync\u001b[0m\u001b[0;34m:\u001b[0m\u001b[0;34m\u001b[0m\u001b[0;34m\u001b[0m\u001b[0m\n\u001b[1;32m   1687\u001b[0m                                 \u001b[0mcontext\u001b[0m\u001b[0;34m.\u001b[0m\u001b[0masync_wait\u001b[0m\u001b[0;34m(\u001b[0m\u001b[0;34m)\u001b[0m\u001b[0;34m\u001b[0m\u001b[0;34m\u001b[0m\u001b[0m\n",
            "\u001b[0;32m/usr/local/lib/python3.10/dist-packages/tensorflow/python/util/traceback_utils.py\u001b[0m in \u001b[0;36merror_handler\u001b[0;34m(*args, **kwargs)\u001b[0m\n\u001b[1;32m    148\u001b[0m     \u001b[0mfiltered_tb\u001b[0m \u001b[0;34m=\u001b[0m \u001b[0;32mNone\u001b[0m\u001b[0;34m\u001b[0m\u001b[0;34m\u001b[0m\u001b[0m\n\u001b[1;32m    149\u001b[0m     \u001b[0;32mtry\u001b[0m\u001b[0;34m:\u001b[0m\u001b[0;34m\u001b[0m\u001b[0;34m\u001b[0m\u001b[0m\n\u001b[0;32m--> 150\u001b[0;31m       \u001b[0;32mreturn\u001b[0m \u001b[0mfn\u001b[0m\u001b[0;34m(\u001b[0m\u001b[0;34m*\u001b[0m\u001b[0margs\u001b[0m\u001b[0;34m,\u001b[0m \u001b[0;34m**\u001b[0m\u001b[0mkwargs\u001b[0m\u001b[0;34m)\u001b[0m\u001b[0;34m\u001b[0m\u001b[0;34m\u001b[0m\u001b[0m\n\u001b[0m\u001b[1;32m    151\u001b[0m     \u001b[0;32mexcept\u001b[0m \u001b[0mException\u001b[0m \u001b[0;32mas\u001b[0m \u001b[0me\u001b[0m\u001b[0;34m:\u001b[0m\u001b[0;34m\u001b[0m\u001b[0;34m\u001b[0m\u001b[0m\n\u001b[1;32m    152\u001b[0m       \u001b[0mfiltered_tb\u001b[0m \u001b[0;34m=\u001b[0m \u001b[0m_process_traceback_frames\u001b[0m\u001b[0;34m(\u001b[0m\u001b[0me\u001b[0m\u001b[0;34m.\u001b[0m\u001b[0m__traceback__\u001b[0m\u001b[0;34m)\u001b[0m\u001b[0;34m\u001b[0m\u001b[0;34m\u001b[0m\u001b[0m\n",
            "\u001b[0;32m/usr/local/lib/python3.10/dist-packages/tensorflow/python/eager/polymorphic_function/polymorphic_function.py\u001b[0m in \u001b[0;36m__call__\u001b[0;34m(self, *args, **kwds)\u001b[0m\n\u001b[1;32m    892\u001b[0m \u001b[0;34m\u001b[0m\u001b[0m\n\u001b[1;32m    893\u001b[0m       \u001b[0;32mwith\u001b[0m \u001b[0mOptionalXlaContext\u001b[0m\u001b[0;34m(\u001b[0m\u001b[0mself\u001b[0m\u001b[0;34m.\u001b[0m\u001b[0m_jit_compile\u001b[0m\u001b[0;34m)\u001b[0m\u001b[0;34m:\u001b[0m\u001b[0;34m\u001b[0m\u001b[0;34m\u001b[0m\u001b[0m\n\u001b[0;32m--> 894\u001b[0;31m         \u001b[0mresult\u001b[0m \u001b[0;34m=\u001b[0m \u001b[0mself\u001b[0m\u001b[0;34m.\u001b[0m\u001b[0m_call\u001b[0m\u001b[0;34m(\u001b[0m\u001b[0;34m*\u001b[0m\u001b[0margs\u001b[0m\u001b[0;34m,\u001b[0m \u001b[0;34m**\u001b[0m\u001b[0mkwds\u001b[0m\u001b[0;34m)\u001b[0m\u001b[0;34m\u001b[0m\u001b[0;34m\u001b[0m\u001b[0m\n\u001b[0m\u001b[1;32m    895\u001b[0m \u001b[0;34m\u001b[0m\u001b[0m\n\u001b[1;32m    896\u001b[0m       \u001b[0mnew_tracing_count\u001b[0m \u001b[0;34m=\u001b[0m \u001b[0mself\u001b[0m\u001b[0;34m.\u001b[0m\u001b[0mexperimental_get_tracing_count\u001b[0m\u001b[0;34m(\u001b[0m\u001b[0;34m)\u001b[0m\u001b[0;34m\u001b[0m\u001b[0;34m\u001b[0m\u001b[0m\n",
            "\u001b[0;32m/usr/local/lib/python3.10/dist-packages/tensorflow/python/eager/polymorphic_function/polymorphic_function.py\u001b[0m in \u001b[0;36m_call\u001b[0;34m(self, *args, **kwds)\u001b[0m\n\u001b[1;32m    924\u001b[0m       \u001b[0;31m# In this case we have created variables on the first call, so we run the\u001b[0m\u001b[0;34m\u001b[0m\u001b[0;34m\u001b[0m\u001b[0m\n\u001b[1;32m    925\u001b[0m       \u001b[0;31m# defunned version which is guaranteed to never create variables.\u001b[0m\u001b[0;34m\u001b[0m\u001b[0;34m\u001b[0m\u001b[0m\n\u001b[0;32m--> 926\u001b[0;31m       \u001b[0;32mreturn\u001b[0m \u001b[0mself\u001b[0m\u001b[0;34m.\u001b[0m\u001b[0m_no_variable_creation_fn\u001b[0m\u001b[0;34m(\u001b[0m\u001b[0;34m*\u001b[0m\u001b[0margs\u001b[0m\u001b[0;34m,\u001b[0m \u001b[0;34m**\u001b[0m\u001b[0mkwds\u001b[0m\u001b[0;34m)\u001b[0m  \u001b[0;31m# pylint: disable=not-callable\u001b[0m\u001b[0;34m\u001b[0m\u001b[0;34m\u001b[0m\u001b[0m\n\u001b[0m\u001b[1;32m    927\u001b[0m     \u001b[0;32melif\u001b[0m \u001b[0mself\u001b[0m\u001b[0;34m.\u001b[0m\u001b[0m_variable_creation_fn\u001b[0m \u001b[0;32mis\u001b[0m \u001b[0;32mnot\u001b[0m \u001b[0;32mNone\u001b[0m\u001b[0;34m:\u001b[0m\u001b[0;34m\u001b[0m\u001b[0;34m\u001b[0m\u001b[0m\n\u001b[1;32m    928\u001b[0m       \u001b[0;31m# Release the lock early so that multiple threads can perform the call\u001b[0m\u001b[0;34m\u001b[0m\u001b[0;34m\u001b[0m\u001b[0m\n",
            "\u001b[0;32m/usr/local/lib/python3.10/dist-packages/tensorflow/python/eager/polymorphic_function/tracing_compiler.py\u001b[0m in \u001b[0;36m__call__\u001b[0;34m(self, *args, **kwargs)\u001b[0m\n\u001b[1;32m    141\u001b[0m       (concrete_function,\n\u001b[1;32m    142\u001b[0m        filtered_flat_args) = self._maybe_define_function(args, kwargs)\n\u001b[0;32m--> 143\u001b[0;31m     return concrete_function._call_flat(\n\u001b[0m\u001b[1;32m    144\u001b[0m         filtered_flat_args, captured_inputs=concrete_function.captured_inputs)  # pylint: disable=protected-access\n\u001b[1;32m    145\u001b[0m \u001b[0;34m\u001b[0m\u001b[0m\n",
            "\u001b[0;32m/usr/local/lib/python3.10/dist-packages/tensorflow/python/eager/polymorphic_function/monomorphic_function.py\u001b[0m in \u001b[0;36m_call_flat\u001b[0;34m(self, args, captured_inputs, cancellation_manager)\u001b[0m\n\u001b[1;32m   1755\u001b[0m         and executing_eagerly):\n\u001b[1;32m   1756\u001b[0m       \u001b[0;31m# No tape is watching; skip to running the function.\u001b[0m\u001b[0;34m\u001b[0m\u001b[0;34m\u001b[0m\u001b[0m\n\u001b[0;32m-> 1757\u001b[0;31m       return self._build_call_outputs(self._inference_function.call(\n\u001b[0m\u001b[1;32m   1758\u001b[0m           ctx, args, cancellation_manager=cancellation_manager))\n\u001b[1;32m   1759\u001b[0m     forward_backward = self._select_forward_and_backward_functions(\n",
            "\u001b[0;32m/usr/local/lib/python3.10/dist-packages/tensorflow/python/eager/polymorphic_function/monomorphic_function.py\u001b[0m in \u001b[0;36mcall\u001b[0;34m(self, ctx, args, cancellation_manager)\u001b[0m\n\u001b[1;32m    379\u001b[0m       \u001b[0;32mwith\u001b[0m \u001b[0m_InterpolateFunctionError\u001b[0m\u001b[0;34m(\u001b[0m\u001b[0mself\u001b[0m\u001b[0;34m)\u001b[0m\u001b[0;34m:\u001b[0m\u001b[0;34m\u001b[0m\u001b[0;34m\u001b[0m\u001b[0m\n\u001b[1;32m    380\u001b[0m         \u001b[0;32mif\u001b[0m \u001b[0mcancellation_manager\u001b[0m \u001b[0;32mis\u001b[0m \u001b[0;32mNone\u001b[0m\u001b[0;34m:\u001b[0m\u001b[0;34m\u001b[0m\u001b[0;34m\u001b[0m\u001b[0m\n\u001b[0;32m--> 381\u001b[0;31m           outputs = execute.execute(\n\u001b[0m\u001b[1;32m    382\u001b[0m               \u001b[0mstr\u001b[0m\u001b[0;34m(\u001b[0m\u001b[0mself\u001b[0m\u001b[0;34m.\u001b[0m\u001b[0msignature\u001b[0m\u001b[0;34m.\u001b[0m\u001b[0mname\u001b[0m\u001b[0;34m)\u001b[0m\u001b[0;34m,\u001b[0m\u001b[0;34m\u001b[0m\u001b[0;34m\u001b[0m\u001b[0m\n\u001b[1;32m    383\u001b[0m               \u001b[0mnum_outputs\u001b[0m\u001b[0;34m=\u001b[0m\u001b[0mself\u001b[0m\u001b[0;34m.\u001b[0m\u001b[0m_num_outputs\u001b[0m\u001b[0;34m,\u001b[0m\u001b[0;34m\u001b[0m\u001b[0;34m\u001b[0m\u001b[0m\n",
            "\u001b[0;32m/usr/local/lib/python3.10/dist-packages/tensorflow/python/eager/execute.py\u001b[0m in \u001b[0;36mquick_execute\u001b[0;34m(op_name, num_outputs, inputs, attrs, ctx, name)\u001b[0m\n\u001b[1;32m     50\u001b[0m   \u001b[0;32mtry\u001b[0m\u001b[0;34m:\u001b[0m\u001b[0;34m\u001b[0m\u001b[0;34m\u001b[0m\u001b[0m\n\u001b[1;32m     51\u001b[0m     \u001b[0mctx\u001b[0m\u001b[0;34m.\u001b[0m\u001b[0mensure_initialized\u001b[0m\u001b[0;34m(\u001b[0m\u001b[0;34m)\u001b[0m\u001b[0;34m\u001b[0m\u001b[0;34m\u001b[0m\u001b[0m\n\u001b[0;32m---> 52\u001b[0;31m     tensors = pywrap_tfe.TFE_Py_Execute(ctx._handle, device_name, op_name,\n\u001b[0m\u001b[1;32m     53\u001b[0m                                         inputs, attrs, num_outputs)\n\u001b[1;32m     54\u001b[0m   \u001b[0;32mexcept\u001b[0m \u001b[0mcore\u001b[0m\u001b[0;34m.\u001b[0m\u001b[0m_NotOkStatusException\u001b[0m \u001b[0;32mas\u001b[0m \u001b[0me\u001b[0m\u001b[0;34m:\u001b[0m\u001b[0;34m\u001b[0m\u001b[0;34m\u001b[0m\u001b[0m\n",
            "\u001b[0;31mKeyboardInterrupt\u001b[0m: "
          ]
        }
      ]
    },
    {
      "cell_type": "code",
      "source": [
        "#transfer_learning\n",
        "from tensorflow.keras import regularizers\n",
        "from tensorflow.keras.models import Sequential, Model\n",
        "from tensorflow.keras.layers import Dense, Conv2D, MaxPooling2D, Flatten, Dropout, GlobalAveragePooling2D\n",
        "pretrained_model = tf.keras.applications.InceptionV3(weights='imagenet', include_top=False)\n",
        "\n",
        "x = pretrained_model.output\n",
        "x = GlobalAveragePooling2D()(x)\n",
        "x = Dense(128, activation='relu')(x)\n",
        "x = Dropout(0.2)(x)\n",
        "\n",
        "predictions = Dense(17, kernel_regularizer=regularizers.l2(0.005), activation='softmax')(x)\n",
        "\n",
        "# for layer in pretrained_model.layers:\n",
        "#     layer.trainable = False\n",
        "\n",
        "\n",
        "# model = tf.keras.Sequential([\n",
        "#     pretrained_model,\n",
        "#     tf.keras.layers.GlobalAveragePooling2D(),\n",
        "#     tf.keras.layers.Dense(128, activation='relu'),\n",
        "#     tf.keras.layers.Dropout(0.2),\n",
        "#     tf.keras.layers.Dense(17, kernel_regularizer=regularizers.l2(0.005), activation='softmax')\n",
        "# ])\n",
        "\n",
        "model = Model(inputs=pretrained_model.input, outputs=predictions)\n",
        "model.compile(optimizer=tf.keras.optimizers.SGD(learning_rate=0.0001, momentum=0.9), loss='categorical_crossentropy', metrics=['accuracy'])\n",
        "\n",
        "callback = AccCallback()\n",
        "history = model.fit_generator(train_generator, epochs=30, steps_per_epoch = 13600 // 16, validation_steps = 3400 // 16, verbose=1 ,validation_data=valid_generator, callbacks=[callback])"
      ],
      "metadata": {
        "colab": {
          "base_uri": "https://localhost:8080/"
        },
        "id": "wOpzuQ7pXWKw",
        "outputId": "bd31df6c-f97a-4ec5-da73-b1f04134f11b"
      },
      "execution_count": 28,
      "outputs": [
        {
          "output_type": "stream",
          "name": "stderr",
          "text": [
            "<ipython-input-28-2ec67d4177f2>:30: UserWarning: `Model.fit_generator` is deprecated and will be removed in a future version. Please use `Model.fit`, which supports generators.\n",
            "  history = model.fit_generator(train_generator, epochs=30, steps_per_epoch = 13600 // 16, validation_steps = 3400 // 16, verbose=1 ,validation_data=valid_generator, callbacks=[callback])\n"
          ]
        },
        {
          "output_type": "stream",
          "name": "stdout",
          "text": [
            "Epoch 1/30\n",
            "850/850 [==============================] - 229s 245ms/step - loss: 2.5584 - accuracy: 0.2910 - val_loss: 1.7177 - val_accuracy: 0.6212\n",
            "Epoch 2/30\n",
            "850/850 [==============================] - 207s 244ms/step - loss: 1.5398 - accuracy: 0.6192 - val_loss: 1.0417 - val_accuracy: 0.7624\n",
            "Epoch 3/30\n",
            "850/850 [==============================] - 208s 245ms/step - loss: 1.1424 - accuracy: 0.7165 - val_loss: 0.8440 - val_accuracy: 0.8075\n",
            "Epoch 4/30\n",
            "850/850 [==============================] - 206s 242ms/step - loss: 0.9691 - accuracy: 0.7605 - val_loss: 0.7517 - val_accuracy: 0.8334\n",
            "Epoch 5/30\n",
            "850/850 [==============================] - 207s 244ms/step - loss: 0.8648 - accuracy: 0.7899 - val_loss: 0.6902 - val_accuracy: 0.8470\n",
            "Epoch 6/30\n",
            "850/850 [==============================] - 212s 250ms/step - loss: 0.7861 - accuracy: 0.8145 - val_loss: 0.6586 - val_accuracy: 0.8555\n",
            "Epoch 7/30\n",
            "850/850 [==============================] - 214s 251ms/step - loss: 0.7218 - accuracy: 0.8321 - val_loss: 0.6342 - val_accuracy: 0.8603\n",
            "Epoch 8/30\n",
            "850/850 [==============================] - 212s 250ms/step - loss: 0.6756 - accuracy: 0.8458 - val_loss: 0.6092 - val_accuracy: 0.8673\n",
            "Epoch 9/30\n",
            "850/850 [==============================] - 209s 245ms/step - loss: 0.6291 - accuracy: 0.8561 - val_loss: 0.5906 - val_accuracy: 0.8688\n",
            "Epoch 10/30\n",
            "850/850 [==============================] - 210s 247ms/step - loss: 0.5912 - accuracy: 0.8720 - val_loss: 0.5845 - val_accuracy: 0.8744\n",
            "Epoch 11/30\n",
            "850/850 [==============================] - 219s 257ms/step - loss: 0.5659 - accuracy: 0.8737 - val_loss: 0.5664 - val_accuracy: 0.8759\n",
            "Epoch 12/30\n",
            "850/850 [==============================] - 216s 254ms/step - loss: 0.5268 - accuracy: 0.8903 - val_loss: 0.5598 - val_accuracy: 0.8762\n",
            "Epoch 13/30\n",
            "850/850 [==============================] - 215s 253ms/step - loss: 0.4948 - accuracy: 0.8963 - val_loss: 0.5582 - val_accuracy: 0.8779\n",
            "Epoch 14/30\n",
            "850/850 [==============================] - 217s 255ms/step - loss: 0.4750 - accuracy: 0.9004 - val_loss: 0.5494 - val_accuracy: 0.8806\n",
            "Epoch 15/30\n",
            "850/850 [==============================] - 216s 254ms/step - loss: 0.4580 - accuracy: 0.9067 - val_loss: 0.5433 - val_accuracy: 0.8827\n",
            "Epoch 16/30\n",
            "850/850 [==============================] - 215s 253ms/step - loss: 0.4392 - accuracy: 0.9099 - val_loss: 0.5368 - val_accuracy: 0.8838\n",
            "Epoch 17/30\n",
            "850/850 [==============================] - 215s 252ms/step - loss: 0.4088 - accuracy: 0.9176 - val_loss: 0.5360 - val_accuracy: 0.8841\n",
            "Epoch 18/30\n",
            "850/850 [==============================] - 214s 252ms/step - loss: 0.4036 - accuracy: 0.9216 - val_loss: 0.5253 - val_accuracy: 0.8871\n",
            "Epoch 19/30\n",
            "850/850 [==============================] - 214s 251ms/step - loss: 0.3849 - accuracy: 0.9265 - val_loss: 0.5255 - val_accuracy: 0.8892\n",
            "Epoch 20/30\n",
            "850/850 [==============================] - 215s 252ms/step - loss: 0.3634 - accuracy: 0.9333 - val_loss: 0.5257 - val_accuracy: 0.8892\n",
            "Epoch 21/30\n",
            "850/850 [==============================] - 218s 257ms/step - loss: 0.3456 - accuracy: 0.9378 - val_loss: 0.5283 - val_accuracy: 0.8871\n",
            "Epoch 22/30\n",
            "850/850 [==============================] - 219s 257ms/step - loss: 0.3417 - accuracy: 0.9388 - val_loss: 0.5187 - val_accuracy: 0.8903\n",
            "Epoch 23/30\n",
            "850/850 [==============================] - 220s 259ms/step - loss: 0.3204 - accuracy: 0.9468 - val_loss: 0.5158 - val_accuracy: 0.8927\n",
            "Epoch 24/30\n",
            "850/850 [==============================] - 220s 259ms/step - loss: 0.3155 - accuracy: 0.9457 - val_loss: 0.5157 - val_accuracy: 0.8924\n",
            "Epoch 25/30\n",
            "850/850 [==============================] - ETA: 0s - loss: 0.2918 - accuracy: 0.9533 Akurasi Mencapai 85%, Stop training !!\n",
            "850/850 [==============================] - 223s 263ms/step - loss: 0.2918 - accuracy: 0.9533 - val_loss: 0.5266 - val_accuracy: 0.8903\n"
          ]
        }
      ]
    },
    {
      "cell_type": "code",
      "source": [
        "#fine_tuning\n",
        "\n",
        "for layer in preTrainModel.layers[:50]:\n",
        "    layer.trainable = False\n",
        "\n",
        "\n",
        "for layer in preTrainModel.layers[50:]:\n",
        "    layer.trainable = True\n",
        "\n",
        "\n",
        "model.compile(optimizer='rmsprop', loss='categorical_crossentropy', metrics=['accuracy'])\n",
        "\n",
        "\n",
        "history = model.fit(train_generator, epochs=5, batch_size=32, validation_data=valid_generator)"
      ],
      "metadata": {
        "colab": {
          "base_uri": "https://localhost:8080/"
        },
        "id": "iURx_6oskHGo",
        "outputId": "2dc73dbe-ceba-46e2-8ec7-aeabd0a354a4"
      },
      "execution_count": null,
      "outputs": [
        {
          "output_type": "stream",
          "name": "stdout",
          "text": [
            "Epoch 1/5\n",
            "134/134 [==============================] - 43s 283ms/step - loss: 0.2114 - accuracy: 0.9577 - val_loss: 0.8639 - val_accuracy: 0.8598\n",
            "Epoch 2/5\n",
            "134/134 [==============================] - 36s 271ms/step - loss: 0.1971 - accuracy: 0.9572 - val_loss: 0.8643 - val_accuracy: 0.8664\n",
            "Epoch 3/5\n",
            "134/134 [==============================] - 36s 272ms/step - loss: 0.1734 - accuracy: 0.9610 - val_loss: 0.8782 - val_accuracy: 0.8636\n",
            "Epoch 4/5\n",
            "134/134 [==============================] - 36s 271ms/step - loss: 0.1865 - accuracy: 0.9589 - val_loss: 0.8694 - val_accuracy: 0.8674\n",
            "Epoch 5/5\n",
            "134/134 [==============================] - 37s 273ms/step - loss: 0.1995 - accuracy: 0.9598 - val_loss: 0.8687 - val_accuracy: 0.8645\n"
          ]
        }
      ]
    },
    {
      "cell_type": "code",
      "source": [
        "#chart akurasi dan loss dari training dan validasi\n",
        "acc = history.history['accuracy']\n",
        "val_acc = history.history['val_accuracy']\n",
        "loss = history.history['loss']\n",
        "val_loss = history.history['val_loss']\n",
        "\n",
        "epochs = range(len(acc))\n",
        "\n",
        "plt.plot(epochs, acc, 'r', label = 'Training accuracy')\n",
        "plt.plot(epochs, val_acc, 'b', label = 'Validation accuracy')\n",
        "plt.title('Training and validation accuracy')\n",
        "plt.legend()\n",
        "plt.figure()\n",
        "\n",
        "plt.plot(epochs, loss, 'r', label = 'Training loss')\n",
        "plt.plot(epochs, val_loss, 'b', label = 'Validation loss')\n",
        "plt.title('Training and validation loss')\n",
        "plt.legend()\n",
        "\n",
        "plt.show()"
      ],
      "metadata": {
        "colab": {
          "base_uri": "https://localhost:8080/",
          "height": 887
        },
        "id": "EnubH64-fkAI",
        "outputId": "08d33e44-5a9d-4ddc-a403-3662c639a072"
      },
      "execution_count": 29,
      "outputs": [
        {
          "output_type": "display_data",
          "data": {
            "text/plain": [
              "<Figure size 640x480 with 1 Axes>"
            ],
            "image/png": "[encoded data removed]"
          },
          "metadata": {}
        },
        {
          "output_type": "display_data",
          "data": {
            "text/plain": [
              "<Figure size 640x480 with 1 Axes>"
            ],
            "image/png": "[encoded data removed]"
          },
          "metadata": {}
        }
      ]
    },
    {
      "cell_type": "code",
      "source": [
        "#testing scan nasi goreng\n",
        "# import numpy as np\n",
        "# from tensorflow.keras.utils import load_img, img_to_array\n",
        "\n",
        "# uploaded = files.upload()\n",
        "\n",
        "# for fn in uploaded.keys():\n",
        "#   path = '../food-classification/' + fn\n",
        "#   img = load_img(path, target_size=(224, 224))\n",
        "#   x = img_to_array(img)\n",
        "#   x /= 255\n",
        "#   x = np.expand_dims(x, axis=0)\n",
        "\n",
        "#   images = np.vstack([x])\n",
        "#   classes = model.predict(images, batch_size=10)\n",
        "#   print(classes[0].max())\n",
        "#   if classes[0].max()>0.5:\n",
        "#     print(fn + \" ini Nasi Goreng\")\n",
        "#   else:\n",
        "#     print(fn + \" bukan Nasi Goreng\")"
      ],
      "metadata": {
        "colab": {
          "base_uri": "https://localhost:8080/",
          "height": 298
        },
        "id": "-qW9AKSfsvIp",
        "outputId": "c00a706a-2286-4b9c-c293-bed700e8db8a"
      },
      "execution_count": null,
      "outputs": [
        {
          "output_type": "display_data",
          "data": {
            "text/plain": [
              "<IPython.core.display.HTML object>"
            ],
            "text/html": [
              "\n",
              "     <input type=\"file\" id=\"files-c2567bb9-aa84-4cca-ae4c-687dc331abe3\" name=\"files[]\" multiple disabled\n",
              "        style=\"border:none\" />\n",
              "     <output id=\"result-c2567bb9-aa84-4cca-ae4c-687dc331abe3\">\n",
              "      Upload widget is only available when the cell has been executed in the\n",
              "      current browser session. Please rerun this cell to enable.\n",
              "      </output>\n",
              "      <script>// Copyright 2017 Google LLC\n",
              "//\n",
              "// Licensed under the Apache License, Version 2.0 (the \"License\");\n",
              "// you may not use this file except in compliance with the License.\n",
              "// You may obtain a copy of the License at\n",
              "//\n",
              "//      http://www.apache.org/licenses/LICENSE-2.0\n",
              "//\n",
              "// Unless required by applicable law or agreed to in writing, software\n",
              "// distributed under the License is distributed on an \"AS IS\" BASIS,\n",
              "// WITHOUT WARRANTIES OR CONDITIONS OF ANY KIND, either express or implied.\n",
              "// See the License for the specific language governing permissions and\n",
              "// limitations under the License.\n",
              "\n",
              "/**\n",
              " * @fileoverview Helpers for google.colab Python module.\n",
              " */\n",
              "(function(scope) {\n",
              "function span(text, styleAttributes = {}) {\n",
              "  const element = document.createElement('span');\n",
              "  element.textContent = text;\n",
              "  for (const key of Object.keys(styleAttributes)) {\n",
              "    element.style[key] = styleAttributes[key];\n",
              "  }\n",
              "  return element;\n",
              "}\n",
              "\n",
              "// Max number of bytes which will be uploaded at a time.\n",
              "const MAX_PAYLOAD_SIZE = 100 * 1024;\n",
              "\n",
              "function _uploadFiles(inputId, outputId) {\n",
              "  const steps = uploadFilesStep(inputId, outputId);\n",
              "  const outputElement = document.getElementById(outputId);\n",
              "  // Cache steps on the outputElement to make it available for the next call\n",
              "  // to uploadFilesContinue from Python.\n",
              "  outputElement.steps = steps;\n",
              "\n",
              "  return _uploadFilesContinue(outputId);\n",
              "}\n",
              "\n",
              "// This is roughly an async generator (not supported in the browser yet),\n",
              "// where there are multiple asynchronous steps and the Python side is going\n",
              "// to poll for completion of each step.\n",
              "// This uses a Promise to block the python side on completion of each step,\n",
              "// then passes the result of the previous step as the input to the next step.\n",
              "function _uploadFilesContinue(outputId) {\n",
              "  const outputElement = document.getElementById(outputId);\n",
              "  const steps = outputElement.steps;\n",
              "\n",
              "  const next = steps.next(outputElement.lastPromiseValue);\n",
              "  return Promise.resolve(next.value.promise).then((value) => {\n",
              "    // Cache the last promise value to make it available to the next\n",
              "    // step of the generator.\n",
              "    outputElement.lastPromiseValue = value;\n",
              "    return next.value.response;\n",
              "  });\n",
              "}\n",
              "\n",
              "/**\n",
              " * Generator function which is called between each async step of the upload\n",
              " * process.\n",
              " * @param {string} inputId Element ID of the input file picker element.\n",
              " * @param {string} outputId Element ID of the output display.\n",
              " * @return {!Iterable<!Object>} Iterable of next steps.\n",
              " */\n",
              "function* uploadFilesStep(inputId, outputId) {\n",
              "  const inputElement = document.getElementById(inputId);\n",
              "  inputElement.disabled = false;\n",
              "\n",
              "  const outputElement = document.getElementById(outputId);\n",
              "  outputElement.innerHTML = '';\n",
              "\n",
              "  const pickedPromise = new Promise((resolve) => {\n",
              "    inputElement.addEventListener('change', (e) => {\n",
              "      resolve(e.target.files);\n",
              "    });\n",
              "  });\n",
              "\n",
              "  const cancel = document.createElement('button');\n",
              "  inputElement.parentElement.appendChild(cancel);\n",
              "  cancel.textContent = 'Cancel upload';\n",
              "  const cancelPromise = new Promise((resolve) => {\n",
              "    cancel.onclick = () => {\n",
              "      resolve(null);\n",
              "    };\n",
              "  });\n",
              "\n",
              "  // Wait for the user to pick the files.\n",
              "  const files = yield {\n",
              "    promise: Promise.race([pickedPromise, cancelPromise]),\n",
              "    response: {\n",
              "      action: 'starting',\n",
              "    }\n",
              "  };\n",
              "\n",
              "  cancel.remove();\n",
              "\n",
              "  // Disable the input element since further picks are not allowed.\n",
              "  inputElement.disabled = true;\n",
              "\n",
              "  if (!files) {\n",
              "    return {\n",
              "      response: {\n",
              "        action: 'complete',\n",
              "      }\n",
              "    };\n",
              "  }\n",
              "\n",
              "  for (const file of files) {\n",
              "    const li = document.createElement('li');\n",
              "    li.append(span(file.name, {fontWeight: 'bold'}));\n",
              "    li.append(span(\n",
              "        `(${file.type || 'n/a'}) - ${file.size} bytes, ` +\n",
              "        `last modified: ${\n",
              "            file.lastModifiedDate ? file.lastModifiedDate.toLocaleDateString() :\n",
              "                                    'n/a'} - `));\n",
              "    const percent = span('0% done');\n",
              "    li.appendChild(percent);\n",
              "\n",
              "    outputElement.appendChild(li);\n",
              "\n",
              "    const fileDataPromise = new Promise((resolve) => {\n",
              "      const reader = new FileReader();\n",
              "      reader.onload = (e) => {\n",
              "        resolve(e.target.result);\n",
              "      };\n",
              "      reader.readAsArrayBuffer(file);\n",
              "    });\n",
              "    // Wait for the data to be ready.\n",
              "    let fileData = yield {\n",
              "      promise: fileDataPromise,\n",
              "      response: {\n",
              "        action: 'continue',\n",
              "      }\n",
              "    };\n",
              "\n",
              "    // Use a chunked sending to avoid message size limits. See b/62115660.\n",
              "    let position = 0;\n",
              "    do {\n",
              "      const length = Math.min(fileData.byteLength - position, MAX_PAYLOAD_SIZE);\n",
              "      const chunk = new Uint8Array(fileData, position, length);\n",
              "      position += length;\n",
              "\n",
              "      const base64 = btoa(String.fromCharCode.apply(null, chunk));\n",
              "      yield {\n",
              "        response: {\n",
              "          action: 'append',\n",
              "          file: file.name,\n",
              "          data: base64,\n",
              "        },\n",
              "      };\n",
              "\n",
              "      let percentDone = fileData.byteLength === 0 ?\n",
              "          100 :\n",
              "          Math.round((position / fileData.byteLength) * 100);\n",
              "      percent.textContent = `${percentDone}% done`;\n",
              "\n",
              "    } while (position < fileData.byteLength);\n",
              "  }\n",
              "\n",
              "  // All done.\n",
              "  yield {\n",
              "    response: {\n",
              "      action: 'complete',\n",
              "    }\n",
              "  };\n",
              "}\n",
              "\n",
              "scope.google = scope.google || {};\n",
              "scope.google.colab = scope.google.colab || {};\n",
              "scope.google.colab._files = {\n",
              "  _uploadFiles,\n",
              "  _uploadFilesContinue,\n",
              "};\n",
              "})(self);\n",
              "</script> "
            ]
          },
          "metadata": {}
        },
        {
          "output_type": "stream",
          "name": "stdout",
          "text": [
            "Saving Nasi-Goreng-spesial.jpg to Nasi-Goreng-spesial (2).jpg\n",
            "Saving resep-nasi-goreng-ayam-kecap_43.jpeg to resep-nasi-goreng-ayam-kecap_43 (2).jpeg\n",
            "Saving NasGor.jpg to NasGor (3).jpg\n",
            "1/1 [==============================] - 0s 233ms/step\n",
            "0.75518095\n",
            "Nasi-Goreng-spesial.jpg ini Nasi Goreng\n",
            "1/1 [==============================] - 0s 21ms/step\n",
            "0.9997824\n",
            "resep-nasi-goreng-ayam-kecap_43.jpeg ini Nasi Goreng\n",
            "1/1 [==============================] - 0s 19ms/step\n",
            "0.9999937\n",
            "NasGor.jpg ini Nasi Goreng\n"
          ]
        }
      ]
    },
    {
      "cell_type": "code",
      "source": [
        "model.save('./model.h5')\n",
        "print(\"model saved !\")"
      ],
      "metadata": {
        "colab": {
          "base_uri": "https://localhost:8080/"
        },
        "id": "7ALxfWmPUm2Z",
        "outputId": "da3d521c-8e1a-4a5e-aa42-c65ef1d5e8c9"
      },
      "execution_count": 30,
      "outputs": [
        {
          "output_type": "stream",
          "name": "stdout",
          "text": [
            "model saved !\n"
          ]
        }
      ]
    },
    {
      "cell_type": "code",
      "source": [
        "#Fine tuning (upgrade model)\n",
        "from tensorflow.keras.models import load_model\n",
        "\n",
        "# Load the pre-trained model\n",
        "pretrained_model = load_model('./model.h5')\n",
        "\n",
        "# Freeze the layers of the pre-trained model\n",
        "for layer in pretrained_model.layers:\n",
        "    layer.trainable = False\n",
        "\n",
        "# Add new layers on top of the pre-trained model for fine-tuning\n",
        "model = Sequential()\n",
        "model.add(pretrained_model)\n",
        "\n",
        "# Add new fully connected layers\n",
        "model.add(Dense(256, activation='relu'))\n",
        "model.add(Dropout(0.2))\n",
        "model.add(Dense(128, activation='relu'))\n",
        "model.add(Dropout(0.2))\n",
        "\n",
        "# Add the final output layer\n",
        "num_classes = 17  # Define the number of classes in your classification task\n",
        "model.add(Dense(num_classes, activation='softmax'))\n",
        "\n",
        "# Compile the model\n",
        "model.compile(optimizer='adam', loss='categorical_crossentropy', metrics=['accuracy'])\n",
        "\n",
        "# Train the model with your new dataset\n",
        "history = model.fit(train_generator, steps_per_epoch=13600//16, epochs=2, validation_data=valid_generator, validation_steps=3400//16)\n",
        "\n",
        "# Save the fine-tuned model\n",
        "model.save('./fine_tuned_model.h5')\n",
        "\n",
        "print('Fine-tuned model has been saved.')"
      ],
      "metadata": {
        "colab": {
          "base_uri": "https://localhost:8080/"
        },
        "id": "BBUPjfGOVs_G",
        "outputId": "1ddec7f0-15d9-4aab-fe4a-8619b42d88f1"
      },
      "execution_count": 32,
      "outputs": [
        {
          "output_type": "stream",
          "name": "stdout",
          "text": [
            "Epoch 1/2\n",
            "850/850 [==============================] - 228s 262ms/step - loss: 0.3506 - accuracy: 0.9777 - val_loss: 0.8481 - val_accuracy: 0.8892\n",
            "Epoch 2/2\n",
            "850/850 [==============================] - 221s 260ms/step - loss: 0.1778 - accuracy: 0.9892 - val_loss: 0.8340 - val_accuracy: 0.8892\n",
            "Fine-tuned model has been saved.\n"
          ]
        }
      ]
    },
    {
      "cell_type": "code",
      "source": [
        "#chart akurasi dan loss dari training dan validasi\n",
        "acc = history.history['accuracy']\n",
        "val_acc = history.history['val_accuracy']\n",
        "loss = history.history['loss']\n",
        "val_loss = history.history['val_loss']\n",
        "\n",
        "epochs = range(len(acc))\n",
        "\n",
        "plt.plot(epochs, acc, 'r', label = 'Training accuracy')\n",
        "plt.plot(epochs, val_acc, 'b', label = 'Validation accuracy')\n",
        "plt.title('Training and validation accuracy')\n",
        "plt.legend()\n",
        "plt.figure()\n",
        "\n",
        "plt.plot(epochs, loss, 'r', label = 'Training loss')\n",
        "plt.plot(epochs, val_loss, 'b', label = 'Validation loss')\n",
        "plt.title('Training and validation loss')\n",
        "plt.legend()\n",
        "\n",
        "plt.show()"
      ],
      "metadata": {
        "colab": {
          "base_uri": "https://localhost:8080/",
          "height": 887
        },
        "id": "syBtR5Sitw4G",
        "outputId": "357f6e04-fe21-41f4-afea-1903daa876fc"
      },
      "execution_count": 33,
      "outputs": [
        {
          "output_type": "display_data",
          "data": {
            "text/plain": [
              "<Figure size 640x480 with 1 Axes>"
            ],
            "image/png": "[encoded data removed]"
          },
          "metadata": {}
        },
        {
          "output_type": "display_data",
          "data": {
            "text/plain": [
              "<Figure size 640x480 with 1 Axes>"
            ],
            "image/png": "[encoded data removed]"
          },
          "metadata": {}
        }
      ]
    },
    {
      "cell_type": "code",
      "source": [
        "pip install tensorflowjs"
      ],
      "metadata": {
        "colab": {
          "base_uri": "https://localhost:8080/",
          "height": 1000
        },
        "id": "YGe7XjWwcRoC",
        "outputId": "34c14af3-4fe9-4b9d-e537-7e67054f56ca"
      },
      "execution_count": 34,
      "outputs": [
        {
          "output_type": "stream",
          "name": "stdout",
          "text": [
            "Looking in indexes: https://pypi.org/simple, https://us-python.pkg.dev/colab-wheels/public/simple/\n",
            "Collecting tensorflowjs\n",
            "  Downloading tensorflowjs-4.6.0-py3-none-any.whl (85 kB)\n",
            "\u001b[2K     \u001b[90m━━━━━━━━━━━━━━━━━━━━━━━━━━━━━━━━━━━━━━━━\u001b[0m \u001b[32m85.1/85.1 kB\u001b[0m \u001b[31m3.6 MB/s\u001b[0m eta \u001b[36m0:00:00\u001b[0m\n",
            "\u001b[?25hCollecting flax<0.6.3,>=0.6.2 (from tensorflowjs)\n",
            "  Downloading flax-0.6.2-py3-none-any.whl (189 kB)\n",
            "\u001b[2K     \u001b[90m━━━━━━━━━━━━━━━━━━━━━━━━━━━━━━━━━━━━━━\u001b[0m \u001b[32m189.9/189.9 kB\u001b[0m \u001b[31m10.1 MB/s\u001b[0m eta \u001b[36m0:00:00\u001b[0m\n",
            "\u001b[?25hRequirement already satisfied: importlib_resources>=5.9.0 in /usr/local/lib/python3.10/dist-packages (from tensorflowjs) (5.12.0)\n",
            "Requirement already satisfied: jax>=0.3.16 in /usr/local/lib/python3.10/dist-packages (from tensorflowjs) (0.4.10)\n",
            "Requirement already satisfied: tensorflow<3,>=2.12.0 in /usr/local/lib/python3.10/dist-packages (from tensorflowjs) (2.12.0)\n",
            "Collecting tensorflow-decision-forests>=1.3.0 (from tensorflowjs)\n",
            "  Downloading tensorflow_decision_forests-1.3.0-cp310-cp310-manylinux_2_17_x86_64.manylinux2014_x86_64.whl (16.4 MB)\n",
            "\u001b[2K     \u001b[90m━━━━━━━━━━━━━━━━━━━━━━━━━━━━━━━━━━━━━━━━\u001b[0m \u001b[32m16.4/16.4 MB\u001b[0m \u001b[31m66.9 MB/s\u001b[0m eta \u001b[36m0:00:00\u001b[0m\n",
            "\u001b[?25hRequirement already satisfied: six<2,>=1.12.0 in /usr/local/lib/python3.10/dist-packages (from tensorflowjs) (1.16.0)\n",
            "Requirement already satisfied: tensorflow-hub>=0.13.0 in /usr/local/lib/python3.10/dist-packages (from tensorflowjs) (0.13.0)\n",
            "Collecting packaging~=20.9 (from tensorflowjs)\n",
            "  Downloading packaging-20.9-py2.py3-none-any.whl (40 kB)\n",
            "\u001b[2K     \u001b[90m━━━━━━━━━━━━━━━━━━━━━━━━━━━━━━━━━━━━━━━━\u001b[0m \u001b[32m40.9/40.9 kB\u001b[0m \u001b[31m4.8 MB/s\u001b[0m eta \u001b[36m0:00:00\u001b[0m\n",
            "\u001b[?25hRequirement already satisfied: numpy>=1.12 in /usr/local/lib/python3.10/dist-packages (from flax<0.6.3,>=0.6.2->tensorflowjs) (1.22.4)\n",
            "Requirement already satisfied: matplotlib in /usr/local/lib/python3.10/dist-packages (from flax<0.6.3,>=0.6.2->tensorflowjs) (3.7.1)\n",
            "Requirement already satisfied: msgpack in /usr/local/lib/python3.10/dist-packages (from flax<0.6.3,>=0.6.2->tensorflowjs) (1.0.5)\n",
            "Requirement already satisfied: optax in /usr/local/lib/python3.10/dist-packages (from flax<0.6.3,>=0.6.2->tensorflowjs) (0.1.5)\n",
            "Requirement already satisfied: tensorstore in /usr/local/lib/python3.10/dist-packages (from flax<0.6.3,>=0.6.2->tensorflowjs) (0.1.36)\n",
            "Requirement already satisfied: rich>=11.1 in /usr/local/lib/python3.10/dist-packages (from flax<0.6.3,>=0.6.2->tensorflowjs) (13.3.4)\n",
            "Requirement already satisfied: typing-extensions>=4.1.1 in /usr/local/lib/python3.10/dist-packages (from flax<0.6.3,>=0.6.2->tensorflowjs) (4.5.0)\n",
            "Requirement already satisfied: PyYAML>=5.4.1 in /usr/local/lib/python3.10/dist-packages (from flax<0.6.3,>=0.6.2->tensorflowjs) (6.0)\n",
            "Requirement already satisfied: ml-dtypes>=0.1.0 in /usr/local/lib/python3.10/dist-packages (from jax>=0.3.16->tensorflowjs) (0.1.0)\n",
            "Requirement already satisfied: opt-einsum in /usr/local/lib/python3.10/dist-packages (from jax>=0.3.16->tensorflowjs) (3.3.0)\n",
            "Requirement already satisfied: scipy>=1.7 in /usr/local/lib/python3.10/dist-packages (from jax>=0.3.16->tensorflowjs) (1.10.1)\n",
            "Requirement already satisfied: pyparsing>=2.0.2 in /usr/local/lib/python3.10/dist-packages (from packaging~=20.9->tensorflowjs) (3.0.9)\n",
            "Requirement already satisfied: absl-py>=1.0.0 in /usr/local/lib/python3.10/dist-packages (from tensorflow<3,>=2.12.0->tensorflowjs) (1.4.0)\n",
            "Requirement already satisfied: astunparse>=1.6.0 in /usr/local/lib/python3.10/dist-packages (from tensorflow<3,>=2.12.0->tensorflowjs) (1.6.3)\n",
            "Requirement already satisfied: flatbuffers>=2.0 in /usr/local/lib/python3.10/dist-packages (from tensorflow<3,>=2.12.0->tensorflowjs) (23.3.3)\n",
            "Requirement already satisfied: gast<=0.4.0,>=0.2.1 in /usr/local/lib/python3.10/dist-packages (from tensorflow<3,>=2.12.0->tensorflowjs) (0.4.0)\n",
            "Requirement already satisfied: google-pasta>=0.1.1 in /usr/local/lib/python3.10/dist-packages (from tensorflow<3,>=2.12.0->tensorflowjs) (0.2.0)\n",
            "Requirement already satisfied: grpcio<2.0,>=1.24.3 in /usr/local/lib/python3.10/dist-packages (from tensorflow<3,>=2.12.0->tensorflowjs) (1.54.0)\n",
            "Requirement already satisfied: h5py>=2.9.0 in /usr/local/lib/python3.10/dist-packages (from tensorflow<3,>=2.12.0->tensorflowjs) (3.8.0)\n",
            "Requirement already satisfied: keras<2.13,>=2.12.0 in /usr/local/lib/python3.10/dist-packages (from tensorflow<3,>=2.12.0->tensorflowjs) (2.12.0)\n",
            "Requirement already satisfied: libclang>=13.0.0 in /usr/local/lib/python3.10/dist-packages (from tensorflow<3,>=2.12.0->tensorflowjs) (16.0.0)\n",
            "Requirement already satisfied: protobuf!=4.21.0,!=4.21.1,!=4.21.2,!=4.21.3,!=4.21.4,!=4.21.5,<5.0.0dev,>=3.20.3 in /usr/local/lib/python3.10/dist-packages (from tensorflow<3,>=2.12.0->tensorflowjs) (3.20.3)\n",
            "Requirement already satisfied: setuptools in /usr/local/lib/python3.10/dist-packages (from tensorflow<3,>=2.12.0->tensorflowjs) (67.7.2)\n",
            "Requirement already satisfied: tensorboard<2.13,>=2.12 in /usr/local/lib/python3.10/dist-packages (from tensorflow<3,>=2.12.0->tensorflowjs) (2.12.2)\n",
            "Requirement already satisfied: tensorflow-estimator<2.13,>=2.12.0 in /usr/local/lib/python3.10/dist-packages (from tensorflow<3,>=2.12.0->tensorflowjs) (2.12.0)\n",
            "Requirement already satisfied: termcolor>=1.1.0 in /usr/local/lib/python3.10/dist-packages (from tensorflow<3,>=2.12.0->tensorflowjs) (2.3.0)\n",
            "Requirement already satisfied: wrapt<1.15,>=1.11.0 in /usr/local/lib/python3.10/dist-packages (from tensorflow<3,>=2.12.0->tensorflowjs) (1.14.1)\n",
            "Requirement already satisfied: tensorflow-io-gcs-filesystem>=0.23.1 in /usr/local/lib/python3.10/dist-packages (from tensorflow<3,>=2.12.0->tensorflowjs) (0.32.0)\n",
            "Requirement already satisfied: pandas in /usr/local/lib/python3.10/dist-packages (from tensorflow-decision-forests>=1.3.0->tensorflowjs) (1.5.3)\n",
            "Requirement already satisfied: wheel in /usr/local/lib/python3.10/dist-packages (from tensorflow-decision-forests>=1.3.0->tensorflowjs) (0.40.0)\n",
            "Collecting wurlitzer (from tensorflow-decision-forests>=1.3.0->tensorflowjs)\n",
            "  Downloading wurlitzer-3.0.3-py3-none-any.whl (7.3 kB)\n",
            "Requirement already satisfied: markdown-it-py<3.0.0,>=2.2.0 in /usr/local/lib/python3.10/dist-packages (from rich>=11.1->flax<0.6.3,>=0.6.2->tensorflowjs) (2.2.0)\n",
            "Requirement already satisfied: pygments<3.0.0,>=2.13.0 in /usr/local/lib/python3.10/dist-packages (from rich>=11.1->flax<0.6.3,>=0.6.2->tensorflowjs) (2.14.0)\n",
            "Requirement already satisfied: google-auth<3,>=1.6.3 in /usr/local/lib/python3.10/dist-packages (from tensorboard<2.13,>=2.12->tensorflow<3,>=2.12.0->tensorflowjs) (2.17.3)\n",
            "Requirement already satisfied: google-auth-oauthlib<1.1,>=0.5 in /usr/local/lib/python3.10/dist-packages (from tensorboard<2.13,>=2.12->tensorflow<3,>=2.12.0->tensorflowjs) (1.0.0)\n",
            "Requirement already satisfied: markdown>=2.6.8 in /usr/local/lib/python3.10/dist-packages (from tensorboard<2.13,>=2.12->tensorflow<3,>=2.12.0->tensorflowjs) (3.4.3)\n",
            "Requirement already satisfied: requests<3,>=2.21.0 in /usr/local/lib/python3.10/dist-packages (from tensorboard<2.13,>=2.12->tensorflow<3,>=2.12.0->tensorflowjs) (2.27.1)\n",
            "Requirement already satisfied: tensorboard-data-server<0.8.0,>=0.7.0 in /usr/local/lib/python3.10/dist-packages (from tensorboard<2.13,>=2.12->tensorflow<3,>=2.12.0->tensorflowjs) (0.7.0)\n",
            "Requirement already satisfied: tensorboard-plugin-wit>=1.6.0 in /usr/local/lib/python3.10/dist-packages (from tensorboard<2.13,>=2.12->tensorflow<3,>=2.12.0->tensorflowjs) (1.8.1)\n",
            "Requirement already satisfied: werkzeug>=1.0.1 in /usr/local/lib/python3.10/dist-packages (from tensorboard<2.13,>=2.12->tensorflow<3,>=2.12.0->tensorflowjs) (2.3.0)\n",
            "Requirement already satisfied: contourpy>=1.0.1 in /usr/local/lib/python3.10/dist-packages (from matplotlib->flax<0.6.3,>=0.6.2->tensorflowjs) (1.0.7)\n",
            "Requirement already satisfied: cycler>=0.10 in /usr/local/lib/python3.10/dist-packages (from matplotlib->flax<0.6.3,>=0.6.2->tensorflowjs) (0.11.0)\n",
            "Requirement already satisfied: fonttools>=4.22.0 in /usr/local/lib/python3.10/dist-packages (from matplotlib->flax<0.6.3,>=0.6.2->tensorflowjs) (4.39.3)\n",
            "Requirement already satisfied: kiwisolver>=1.0.1 in /usr/local/lib/python3.10/dist-packages (from matplotlib->flax<0.6.3,>=0.6.2->tensorflowjs) (1.4.4)\n",
            "Requirement already satisfied: pillow>=6.2.0 in /usr/local/lib/python3.10/dist-packages (from matplotlib->flax<0.6.3,>=0.6.2->tensorflowjs) (8.4.0)\n",
            "Requirement already satisfied: python-dateutil>=2.7 in /usr/local/lib/python3.10/dist-packages (from matplotlib->flax<0.6.3,>=0.6.2->tensorflowjs) (2.8.2)\n",
            "Requirement already satisfied: chex>=0.1.5 in /usr/local/lib/python3.10/dist-packages (from optax->flax<0.6.3,>=0.6.2->tensorflowjs) (0.1.7)\n",
            "Requirement already satisfied: jaxlib>=0.1.37 in /usr/local/lib/python3.10/dist-packages (from optax->flax<0.6.3,>=0.6.2->tensorflowjs) (0.4.10+cuda11.cudnn86)\n",
            "Requirement already satisfied: pytz>=2020.1 in /usr/local/lib/python3.10/dist-packages (from pandas->tensorflow-decision-forests>=1.3.0->tensorflowjs) (2022.7.1)\n",
            "Requirement already satisfied: dm-tree>=0.1.5 in /usr/local/lib/python3.10/dist-packages (from chex>=0.1.5->optax->flax<0.6.3,>=0.6.2->tensorflowjs) (0.1.8)\n",
            "Requirement already satisfied: toolz>=0.9.0 in /usr/local/lib/python3.10/dist-packages (from chex>=0.1.5->optax->flax<0.6.3,>=0.6.2->tensorflowjs) (0.12.0)\n",
            "Requirement already satisfied: cachetools<6.0,>=2.0.0 in /usr/local/lib/python3.10/dist-packages (from google-auth<3,>=1.6.3->tensorboard<2.13,>=2.12->tensorflow<3,>=2.12.0->tensorflowjs) (5.3.0)\n",
            "Requirement already satisfied: pyasn1-modules>=0.2.1 in /usr/local/lib/python3.10/dist-packages (from google-auth<3,>=1.6.3->tensorboard<2.13,>=2.12->tensorflow<3,>=2.12.0->tensorflowjs) (0.3.0)\n",
            "Requirement already satisfied: rsa<5,>=3.1.4 in /usr/local/lib/python3.10/dist-packages (from google-auth<3,>=1.6.3->tensorboard<2.13,>=2.12->tensorflow<3,>=2.12.0->tensorflowjs) (4.9)\n",
            "Requirement already satisfied: requests-oauthlib>=0.7.0 in /usr/local/lib/python3.10/dist-packages (from google-auth-oauthlib<1.1,>=0.5->tensorboard<2.13,>=2.12->tensorflow<3,>=2.12.0->tensorflowjs) (1.3.1)\n",
            "Requirement already satisfied: mdurl~=0.1 in /usr/local/lib/python3.10/dist-packages (from markdown-it-py<3.0.0,>=2.2.0->rich>=11.1->flax<0.6.3,>=0.6.2->tensorflowjs) (0.1.2)\n",
            "Requirement already satisfied: urllib3<1.27,>=1.21.1 in /usr/local/lib/python3.10/dist-packages (from requests<3,>=2.21.0->tensorboard<2.13,>=2.12->tensorflow<3,>=2.12.0->tensorflowjs) (1.26.15)\n",
            "Requirement already satisfied: certifi>=2017.4.17 in /usr/local/lib/python3.10/dist-packages (from requests<3,>=2.21.0->tensorboard<2.13,>=2.12->tensorflow<3,>=2.12.0->tensorflowjs) (2022.12.7)\n",
            "Requirement already satisfied: charset-normalizer~=2.0.0 in /usr/local/lib/python3.10/dist-packages (from requests<3,>=2.21.0->tensorboard<2.13,>=2.12->tensorflow<3,>=2.12.0->tensorflowjs) (2.0.12)\n",
            "Requirement already satisfied: idna<4,>=2.5 in /usr/local/lib/python3.10/dist-packages (from requests<3,>=2.21.0->tensorboard<2.13,>=2.12->tensorflow<3,>=2.12.0->tensorflowjs) (3.4)\n",
            "Requirement already satisfied: MarkupSafe>=2.1.1 in /usr/local/lib/python3.10/dist-packages (from werkzeug>=1.0.1->tensorboard<2.13,>=2.12->tensorflow<3,>=2.12.0->tensorflowjs) (2.1.2)\n",
            "Requirement already satisfied: pyasn1<0.6.0,>=0.4.6 in /usr/local/lib/python3.10/dist-packages (from pyasn1-modules>=0.2.1->google-auth<3,>=1.6.3->tensorboard<2.13,>=2.12->tensorflow<3,>=2.12.0->tensorflowjs) (0.5.0)\n",
            "Requirement already satisfied: oauthlib>=3.0.0 in /usr/local/lib/python3.10/dist-packages (from requests-oauthlib>=0.7.0->google-auth-oauthlib<1.1,>=0.5->tensorboard<2.13,>=2.12->tensorflow<3,>=2.12.0->tensorflowjs) (3.2.2)\n",
            "Installing collected packages: wurlitzer, packaging, flax, tensorflow-decision-forests, tensorflowjs\n",
            "  Attempting uninstall: packaging\n",
            "    Found existing installation: packaging 23.1\n",
            "    Uninstalling packaging-23.1:\n",
            "      Successfully uninstalled packaging-23.1\n",
            "  Attempting uninstall: flax\n",
            "    Found existing installation: flax 0.6.9\n",
            "    Uninstalling flax-0.6.9:\n",
            "      Successfully uninstalled flax-0.6.9\n",
            "\u001b[31mERROR: pip's dependency resolver does not currently take into account all the packages that are installed. This behaviour is the source of the following dependency conflicts.\n",
            "statsmodels 0.13.5 requires packaging>=21.3, but you have packaging 20.9 which is incompatible.\n",
            "xarray 2022.12.0 requires packaging>=21.3, but you have packaging 20.9 which is incompatible.\u001b[0m\u001b[31m\n",
            "\u001b[0mSuccessfully installed flax-0.6.2 packaging-20.9 tensorflow-decision-forests-1.3.0 tensorflowjs-4.6.0 wurlitzer-3.0.3\n"
          ]
        },
        {
          "output_type": "display_data",
          "data": {
            "application/vnd.colab-display-data+json": {
              "pip_warning": {
                "packages": [
                  "packaging"
                ]
              }
            }
          },
          "metadata": {}
        }
      ]
    },
    {
      "cell_type": "code",
      "source": [
        "#konversi tensorflow js\n",
        "import tensorflowjs as tfjs\n",
        "\n",
        "model_for_tfjs = tf.keras.models.load_model('./model.h5')\n",
        "\n",
        "tfjs.converters.save_keras_model(model_for_tfjs, './tfjs_model')"
      ],
      "metadata": {
        "id": "DnPrXVywb5cg"
      },
      "execution_count": 35,
      "outputs": []
    },
    {
      "cell_type": "code",
      "source": [
        "#konversi tensorflow lite\n",
        "model_for_tflite = tf.keras.models.load_model('./model.h5')\n",
        "\n",
        "converter = tf.lite.TFLiteConverter.from_keras_model(model_for_tflite)\n",
        "tflite_model = converter.convert()\n",
        "\n",
        "with open('./model.tflite', 'wb') as f:\n",
        "  f.write(tflite_model)"
      ],
      "metadata": {
        "colab": {
          "base_uri": "https://localhost:8080/"
        },
        "id": "4TLhGcc8dhK5",
        "outputId": "b88febf0-d791-4782-e29e-67d98ca80f3e"
      },
      "execution_count": 36,
      "outputs": [
        {
          "output_type": "stream",
          "name": "stderr",
          "text": [
            "WARNING:absl:Found untraced functions such as _jit_compiled_convolution_op, _jit_compiled_convolution_op, _jit_compiled_convolution_op, _jit_compiled_convolution_op, _jit_compiled_convolution_op while saving (showing 5 of 95). These functions will not be directly callable after loading.\n"
          ]
        }
      ]
    },
    {
      "cell_type": "code",
      "source": [
        "#convert folder to zip\n",
        "def create_zip(folder_path, zip_path):\n",
        "    with zipfile.ZipFile(zip_path, 'w', zipfile.ZIP_DEFLATED) as zipf:\n",
        "        for root, _, files in os.walk(folder_path):\n",
        "            for file in files:\n",
        "                file_path = os.path.join(root, file)\n",
        "                arcname = os.path.relpath(file_path, folder_path)\n",
        "                zipf.write(file_path, arcname)\n",
        "\n",
        "# Path ke folder tfjs_model yang akan di-zip\n",
        "folder_path = './tfjs_model'\n",
        "\n",
        "# Path tempat menyimpan file ZIP\n",
        "zip_path = './tfjs_model.zip'\n",
        "\n",
        "# Membuat file ZIP dari folder tfjs_model\n",
        "create_zip(folder_path, zip_path)"
      ],
      "metadata": {
        "id": "GLKQqjyijT1-"
      },
      "execution_count": 37,
      "outputs": []
    },
    {
      "cell_type": "code",
      "source": [
        "folder_path = './tflite_model'\n",
        "\n",
        "zip_path = './tflite_model.zip'\n",
        "\n",
        "create_zip(folder_path, zip_path)"
      ],
      "metadata": {
        "id": "NNAwEBy9223Z"
      },
      "execution_count": 38,
      "outputs": []
    },
    {
      "cell_type": "code",
      "source": [
        "from google.colab import files\n",
        "\n",
        "files.download('tflite_model.zip')"
      ],
      "metadata": {
        "colab": {
          "base_uri": "https://localhost:8080/",
          "height": 17
        },
        "id": "ZmpTjWH65hLf",
        "outputId": "a51f17d8-a756-492f-d935-b1d9b27c7a88"
      },
      "execution_count": 41,
      "outputs": [
        {
          "output_type": "display_data",
          "data": {
            "text/plain": [
              "<IPython.core.display.Javascript object>"
            ],
            "application/javascript": [
              "\n",
              "    async function download(id, filename, size) {\n",
              "      if (!google.colab.kernel.accessAllowed) {\n",
              "        return;\n",
              "      }\n",
              "      const div = document.createElement('div');\n",
              "      const label = document.createElement('label');\n",
              "      label.textContent = `Downloading \"${filename}\": `;\n",
              "      div.appendChild(label);\n",
              "      const progress = document.createElement('progress');\n",
              "      progress.max = size;\n",
              "      div.appendChild(progress);\n",
              "      document.body.appendChild(div);\n",
              "\n",
              "      const buffers = [];\n",
              "      let downloaded = 0;\n",
              "\n",
              "      const channel = await google.colab.kernel.comms.open(id);\n",
              "      // Send a message to notify the kernel that we're ready.\n",
              "      channel.send({})\n",
              "\n",
              "      for await (const message of channel.messages) {\n",
              "        // Send a message to notify the kernel that we're ready.\n",
              "        channel.send({})\n",
              "        if (message.buffers) {\n",
              "          for (const buffer of message.buffers) {\n",
              "            buffers.push(buffer);\n",
              "            downloaded += buffer.byteLength;\n",
              "            progress.value = downloaded;\n",
              "          }\n",
              "        }\n",
              "      }\n",
              "      const blob = new Blob(buffers, {type: 'application/binary'});\n",
              "      const a = document.createElement('a');\n",
              "      a.href = window.URL.createObjectURL(blob);\n",
              "      a.download = filename;\n",
              "      div.appendChild(a);\n",
              "      a.click();\n",
              "      div.remove();\n",
              "    }\n",
              "  "
            ]
          },
          "metadata": {}
        },
        {
          "output_type": "display_data",
          "data": {
            "text/plain": [
              "<IPython.core.display.Javascript object>"
            ],
            "application/javascript": [
              "download(\"download_67c8313c-bb0d-4e22-abc9-90be319fe825\", \"tflite_model.zip\", 81888819)"
            ]
          },
          "metadata": {}
        }
      ]
    }
  ]
}